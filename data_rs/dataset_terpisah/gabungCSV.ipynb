{
  "nbformat": 4,
  "nbformat_minor": 0,
  "metadata": {
    "colab": {
      "name": "analisa.ipynb",
      "provenance": [],
      "collapsed_sections": []
    },
    "kernelspec": {
      "display_name": "Python 3",
      "name": "python3"
    },
    "language_info": {
      "name": "python"
    }
  },
  "cells": [
    {
      "cell_type": "code",
      "metadata": {
        "colab": {
          "base_uri": "https://localhost:8080/"
        },
        "id": "8iz9Qj_WpJlF",
        "outputId": "eb6dbf82-97b9-43bb-82a8-e3b26cab58bf"
      },
      "source": [
        "from google.colab import drive\n",
        "drive.mount('/content/gdrive')"
      ],
      "execution_count": null,
      "outputs": [
        {
          "output_type": "stream",
          "text": [
            "Drive already mounted at /content/gdrive; to attempt to forcibly remount, call drive.mount(\"/content/gdrive\", force_remount=True).\n"
          ],
          "name": "stdout"
        }
      ]
    },
    {
      "cell_type": "code",
      "metadata": {
        "id": "MlCgg6AWpg4V"
      },
      "source": [
        "import pandas as pd\n",
        "import numpy as np\n",
        "import matplotlib.pyplot as plt\n",
        "import seaborn as sns"
      ],
      "execution_count": null,
      "outputs": []
    },
    {
      "cell_type": "code",
      "metadata": {
        "id": "xBcbDYZHTYW9"
      },
      "source": [
        "FOLDER_PATH = 'gdrive/MyDrive/proyekBangkit/'\n",
        "UMUM = '1umum.csv'\n",
        "AKREDITASI = '1akreditasi.csv'\n",
        "RUJUKAN ='1rujukan.csv'\n",
        "TTCLASS = '2tempat-type-class.csv'"
      ],
      "execution_count": null,
      "outputs": []
    },
    {
      "cell_type": "code",
      "metadata": {
        "id": "Sl6MKxEgqM28"
      },
      "source": [
        "df_umum = pd.read_csv(FOLDER_PATH + UMUM)\n",
        "df_akreditasi = pd.read_csv(FOLDER_PATH + AKREDITASI)\n",
        "df_rujukan = pd.read_csv(FOLDER_PATH + RUJUKAN)\n",
        "df_ttclass = pd.read_csv(FOLDER_PATH + TTCLASS)"
      ],
      "execution_count": null,
      "outputs": []
    },
    {
      "cell_type": "code",
      "metadata": {
        "colab": {
          "base_uri": "https://localhost:8080/",
          "height": 204
        },
        "id": "eknCnB5KqQms",
        "outputId": "41332230-d57b-4b0a-ac4d-9645355534c0"
      },
      "source": [
        "df_umum.head()"
      ],
      "execution_count": null,
      "outputs": [
        {
          "output_type": "execute_result",
          "data": {
            "text/html": [
              "<div>\n",
              "<style scoped>\n",
              "    .dataframe tbody tr th:only-of-type {\n",
              "        vertical-align: middle;\n",
              "    }\n",
              "\n",
              "    .dataframe tbody tr th {\n",
              "        vertical-align: top;\n",
              "    }\n",
              "\n",
              "    .dataframe thead th {\n",
              "        text-align: right;\n",
              "    }\n",
              "</style>\n",
              "<table border=\"1\" class=\"dataframe\">\n",
              "  <thead>\n",
              "    <tr style=\"text-align: right;\">\n",
              "      <th></th>\n",
              "      <th>d.kode_rs</th>\n",
              "      <th>d.nama_rs</th>\n",
              "      <th>d.nama_prop</th>\n",
              "      <th>d.jenis_rs</th>\n",
              "      <th>d.kelas</th>\n",
              "      <th>d.pemilik</th>\n",
              "      <th>(d.total_tt)</th>\n",
              "    </tr>\n",
              "  </thead>\n",
              "  <tbody>\n",
              "    <tr>\n",
              "      <th>0</th>\n",
              "      <td>1703045</td>\n",
              "      <td>RS Hana Charitas Arga Makmur</td>\n",
              "      <td>BENGKULU</td>\n",
              "      <td>RSU</td>\n",
              "      <td>D</td>\n",
              "      <td>Organisasi Katholik</td>\n",
              "      <td>63</td>\n",
              "    </tr>\n",
              "    <tr>\n",
              "      <th>1</th>\n",
              "      <td>9219044</td>\n",
              "      <td>RS Hendrik Fintay Kabupaten Sarmi</td>\n",
              "      <td>PAPUA</td>\n",
              "      <td>RSU</td>\n",
              "      <td>Belum Ditetapkan</td>\n",
              "      <td>Pemkab</td>\n",
              "      <td>25</td>\n",
              "    </tr>\n",
              "    <tr>\n",
              "      <th>2</th>\n",
              "      <td>9213039</td>\n",
              "      <td>RS Umum Daerah Boven Digoel</td>\n",
              "      <td>PAPUA</td>\n",
              "      <td>RSU</td>\n",
              "      <td>Belum Ditetapkan</td>\n",
              "      <td>Pemkab</td>\n",
              "      <td>98</td>\n",
              "    </tr>\n",
              "    <tr>\n",
              "      <th>3</th>\n",
              "      <td>9230002</td>\n",
              "      <td>RS Umum Daerah Tiom</td>\n",
              "      <td>PAPUA</td>\n",
              "      <td>RSU</td>\n",
              "      <td>Belum Ditetapkan</td>\n",
              "      <td>Pemkab</td>\n",
              "      <td>13</td>\n",
              "    </tr>\n",
              "    <tr>\n",
              "      <th>4</th>\n",
              "      <td>9211014</td>\n",
              "      <td>RS Immanuel</td>\n",
              "      <td>PAPUA</td>\n",
              "      <td>RSU</td>\n",
              "      <td>Belum Ditetapkan</td>\n",
              "      <td>Organisasi Protestan</td>\n",
              "      <td>0</td>\n",
              "    </tr>\n",
              "  </tbody>\n",
              "</table>\n",
              "</div>"
            ],
            "text/plain": [
              "  d.kode_rs  ... (d.total_tt)\n",
              "0   1703045  ...           63\n",
              "1   9219044  ...           25\n",
              "2   9213039  ...           98\n",
              "3   9230002  ...           13\n",
              "4   9211014  ...            0\n",
              "\n",
              "[5 rows x 7 columns]"
            ]
          },
          "metadata": {
            "tags": []
          },
          "execution_count": 5
        }
      ]
    },
    {
      "cell_type": "code",
      "metadata": {
        "colab": {
          "base_uri": "https://localhost:8080/"
        },
        "id": "q5_Advu5Z3Kx",
        "outputId": "652ae58c-22d1-4bca-ee84-3b193a37586c"
      },
      "source": [
        "df_umum.value_counts()"
      ],
      "execution_count": null,
      "outputs": [
        {
          "output_type": "execute_result",
          "data": {
            "text/plain": [
              "d.kode_rs  d.nama_rs                                    d.nama_prop  d.jenis_rs  d.kelas  d.pemilik             (d.total_tt)\n",
              "9271079    RS Provita Jayapura                          PAPUA        RSU         C        Perorangan            84              1\n",
              "3204123    RS Ibu dan Anak Humana Prima                 JAWA BARAT   RSIA        C        SWASTA/ LAINNYA       77              1\n",
              "3204090     RS Umum Daerah Soreang                      JAWA BARAT   RSU         C        Pemkab                201             1\n",
              "3204086    RS Umum Daerah Al Ihsan Provinsi Jawa Barat  JAWA BARAT   RSU         B        Pemprop               234             1\n",
              "3204075    RS Umum Mitra Kasih                          JAWA BARAT   RSU         C        Organisasi Sosial     148             1\n",
              "                                                                                                                               ..\n",
              "3571111    RS Ibu dan Anak Nirmala Kediri               JAWA TIMUR   RSIA        C        SWASTA/ LAINNYA       22              1\n",
              "3571053    RS Umum Daha Husada                          JAWA TIMUR   RSU         D        Pemprop               42              1\n",
              "3571042    RS Baptis Kediri                             JAWA TIMUR   RSU         B        Organisasi Protestan  176             1\n",
              "3571031    RS Umum Bhayangkara Kediri                   JAWA TIMUR   RSU         B        POLRI                 274             1\n",
              "1101015    RS Umum Daerah Simeulue                      ACEH         RSU         C        Pemkab                93              1\n",
              "Length: 2925, dtype: int64"
            ]
          },
          "metadata": {
            "tags": []
          },
          "execution_count": 6
        }
      ]
    },
    {
      "cell_type": "code",
      "metadata": {
        "colab": {
          "base_uri": "https://localhost:8080/",
          "height": 204
        },
        "id": "7xR5dF_6qVDH",
        "outputId": "5a61df23-853b-4cb4-ef4a-da488af684ba"
      },
      "source": [
        "df_akreditasi.head()"
      ],
      "execution_count": null,
      "outputs": [
        {
          "output_type": "execute_result",
          "data": {
            "text/html": [
              "<div>\n",
              "<style scoped>\n",
              "    .dataframe tbody tr th:only-of-type {\n",
              "        vertical-align: middle;\n",
              "    }\n",
              "\n",
              "    .dataframe tbody tr th {\n",
              "        vertical-align: top;\n",
              "    }\n",
              "\n",
              "    .dataframe thead th {\n",
              "        text-align: right;\n",
              "    }\n",
              "</style>\n",
              "<table border=\"1\" class=\"dataframe\">\n",
              "  <thead>\n",
              "    <tr style=\"text-align: right;\">\n",
              "      <th></th>\n",
              "      <th>d.kode_rs</th>\n",
              "      <th>d.nama_rs</th>\n",
              "      <th>d.nama_prop</th>\n",
              "      <th>d.kelas</th>\n",
              "      <th>d.pemilik</th>\n",
              "      <th>d.akreditasi</th>\n",
              "    </tr>\n",
              "  </thead>\n",
              "  <tbody>\n",
              "    <tr>\n",
              "      <th>0</th>\n",
              "      <td>3172748</td>\n",
              "      <td>RS Ibu dan Anak Bunda Aliyah</td>\n",
              "      <td>DKI JAKARTA</td>\n",
              "      <td>B</td>\n",
              "      <td>Perusahaan</td>\n",
              "      <td>Tingkat Paripurna</td>\n",
              "    </tr>\n",
              "    <tr>\n",
              "      <th>1</th>\n",
              "      <td>1903005</td>\n",
              "      <td>RS Gunung Manik</td>\n",
              "      <td>KEPULAUAN BANGKA BELITUNG</td>\n",
              "      <td>D</td>\n",
              "      <td>Perusahaan</td>\n",
              "      <td>Tingkat Madya</td>\n",
              "    </tr>\n",
              "    <tr>\n",
              "      <th>2</th>\n",
              "      <td>1275932</td>\n",
              "      <td>RS Gigi dan Mulut Prima</td>\n",
              "      <td>SUMATERA UTARA</td>\n",
              "      <td>C</td>\n",
              "      <td>SWASTA/ LAINNYA</td>\n",
              "      <td>Tingkat Madya</td>\n",
              "    </tr>\n",
              "    <tr>\n",
              "      <th>3</th>\n",
              "      <td>3216446</td>\n",
              "      <td>RSIA Aisyah Qurrataain</td>\n",
              "      <td>JAWA BARAT</td>\n",
              "      <td>C</td>\n",
              "      <td>SWASTA/ LAINNYA</td>\n",
              "      <td>Tingkat Madya</td>\n",
              "    </tr>\n",
              "    <tr>\n",
              "      <th>4</th>\n",
              "      <td>3603193</td>\n",
              "      <td>RS Siloam Hospitals Kelapa Dua</td>\n",
              "      <td>BANTEN</td>\n",
              "      <td>C</td>\n",
              "      <td>Perusahaan</td>\n",
              "      <td>Tingkat Utama</td>\n",
              "    </tr>\n",
              "  </tbody>\n",
              "</table>\n",
              "</div>"
            ],
            "text/plain": [
              "   d.kode_rs  ...       d.akreditasi\n",
              "0    3172748  ...  Tingkat Paripurna\n",
              "1    1903005  ...      Tingkat Madya\n",
              "2    1275932  ...      Tingkat Madya\n",
              "3    3216446  ...      Tingkat Madya\n",
              "4    3603193  ...      Tingkat Utama\n",
              "\n",
              "[5 rows x 6 columns]"
            ]
          },
          "metadata": {
            "tags": []
          },
          "execution_count": 7
        }
      ]
    },
    {
      "cell_type": "code",
      "metadata": {
        "colab": {
          "base_uri": "https://localhost:8080/"
        },
        "id": "ktHHq7HHZ6ti",
        "outputId": "896abbce-a24d-4f47-e229-2d2fa5d65ccc"
      },
      "source": [
        "df_akreditasi.value_counts()"
      ],
      "execution_count": null,
      "outputs": [
        {
          "output_type": "execute_result",
          "data": {
            "text/plain": [
              "d.kode_rs  d.nama_rs                         d.nama_prop  d.kelas  d.pemilik          d.akreditasi     \n",
              "9271079    RS Provita Jayapura               PAPUA        C        Perorangan         Tingkat Paripurna    1\n",
              "3205023    RS Umum Nurhayati Garut           JAWA BARAT   D        Organisasi Sosial  Tingkat Madya        1\n",
              "3205021     RS Umum Tk IV Guntur             JAWA BARAT   C        TNI AD             Tingkat Madya        1\n",
              "3205010     RS Umum Daerah dr. Slamet Garut  JAWA BARAT   B        Pemkab             Tingkat Paripurna    1\n",
              "3204154    RS Umum TNI AU Lanud Sulaiman     JAWA BARAT   D        TNI AU             Tingkat Utama        1\n",
              "                                                                                                          ..\n",
              "3525101    RS Umar Masud                     JAWA TIMUR   D        Pemkab             Tingkat Madya        1\n",
              "3525100    RS Ibu dan Anak Amalia            JAWA TIMUR   C        SWASTA/ LAINNYA    Tingkat Dasar        1\n",
              "3525099    RS Umum Rachmi Dewi               JAWA TIMUR   C        SWASTA/ LAINNYA    Lulus Perdana        1\n",
              "3525098    RS Umum Islam Cahaya Giri Gresik  JAWA TIMUR   D        SWASTA/ LAINNYA    Lulus Perdana        1\n",
              "1101015    RS Umum Daerah Simeulue           ACEH         C        Pemkab             Lulus Perdana        1\n",
              "Length: 2393, dtype: int64"
            ]
          },
          "metadata": {
            "tags": []
          },
          "execution_count": 8
        }
      ]
    },
    {
      "cell_type": "code",
      "metadata": {
        "colab": {
          "base_uri": "https://localhost:8080/",
          "height": 204
        },
        "id": "_mYQDWegTwJD",
        "outputId": "c8902178-7fa1-4b25-b2d2-3874f8a2d4ad"
      },
      "source": [
        "df_rujukan.head()"
      ],
      "execution_count": null,
      "outputs": [
        {
          "output_type": "execute_result",
          "data": {
            "text/html": [
              "<div>\n",
              "<style scoped>\n",
              "    .dataframe tbody tr th:only-of-type {\n",
              "        vertical-align: middle;\n",
              "    }\n",
              "\n",
              "    .dataframe tbody tr th {\n",
              "        vertical-align: top;\n",
              "    }\n",
              "\n",
              "    .dataframe thead th {\n",
              "        text-align: right;\n",
              "    }\n",
              "</style>\n",
              "<table border=\"1\" class=\"dataframe\">\n",
              "  <thead>\n",
              "    <tr style=\"text-align: right;\">\n",
              "      <th></th>\n",
              "      <th>d.kode_rs</th>\n",
              "      <th>d.nama_rs</th>\n",
              "      <th>d.nama_prop</th>\n",
              "      <th>d.kelas</th>\n",
              "      <th>d.pemilik</th>\n",
              "      <th>d.rujukan</th>\n",
              "    </tr>\n",
              "  </thead>\n",
              "  <tbody>\n",
              "    <tr>\n",
              "      <th>0</th>\n",
              "      <td>6472015</td>\n",
              "      <td>RS Umum Daerah Abdul Wahab Sjahranie</td>\n",
              "      <td>KALIMANTAN TIMUR</td>\n",
              "      <td>A</td>\n",
              "      <td>Pemprop</td>\n",
              "      <td>Rujukan Nasional</td>\n",
              "    </tr>\n",
              "    <tr>\n",
              "      <th>1</th>\n",
              "      <td>2072002</td>\n",
              "      <td>RS Umum Daerah Provinsi Kepulauan Riau Tanjung...</td>\n",
              "      <td>KEPULAUAN RIAU</td>\n",
              "      <td>B</td>\n",
              "      <td>Pemprop</td>\n",
              "      <td>Rujukan Propinsi</td>\n",
              "    </tr>\n",
              "    <tr>\n",
              "      <th>2</th>\n",
              "      <td>5206027</td>\n",
              "      <td>RS H. L. Manambai Abdulkadir</td>\n",
              "      <td>NUSA TENGGARA BARAT</td>\n",
              "      <td>C</td>\n",
              "      <td>Pemprop</td>\n",
              "      <td>Rujukan Regional</td>\n",
              "    </tr>\n",
              "    <tr>\n",
              "      <th>3</th>\n",
              "      <td>7604023</td>\n",
              "      <td>RS Umum Daerah Provinsi Sulawesi Barat</td>\n",
              "      <td>SULAWESI BARAT</td>\n",
              "      <td>C</td>\n",
              "      <td>Pemprop</td>\n",
              "      <td>Rujukan Propinsi</td>\n",
              "    </tr>\n",
              "    <tr>\n",
              "      <th>4</th>\n",
              "      <td>7174035</td>\n",
              "      <td>RS Umum Daerah Kota Kotamobagu</td>\n",
              "      <td>SULAWESI UTARA</td>\n",
              "      <td>C</td>\n",
              "      <td>Pemkot</td>\n",
              "      <td>Rujukan Regional</td>\n",
              "    </tr>\n",
              "  </tbody>\n",
              "</table>\n",
              "</div>"
            ],
            "text/plain": [
              "   d.kode_rs  ...         d.rujukan\n",
              "0    6472015  ...  Rujukan Nasional\n",
              "1    2072002  ...  Rujukan Propinsi\n",
              "2    5206027  ...  Rujukan Regional\n",
              "3    7604023  ...  Rujukan Propinsi\n",
              "4    7174035  ...  Rujukan Regional\n",
              "\n",
              "[5 rows x 6 columns]"
            ]
          },
          "metadata": {
            "tags": []
          },
          "execution_count": 9
        }
      ]
    },
    {
      "cell_type": "code",
      "metadata": {
        "id": "XnzQ6HE8XbhV"
      },
      "source": [
        "df_umum.drop(411, inplace=True)"
      ],
      "execution_count": null,
      "outputs": []
    },
    {
      "cell_type": "code",
      "metadata": {
        "colab": {
          "base_uri": "https://localhost:8080/",
          "height": 49
        },
        "id": "Srt9Hlg5W4hj",
        "outputId": "10089fe7-eb32-465c-e3f2-ad6f1a76dda1"
      },
      "source": [
        "df_umum[df_umum['d.kode_rs'] == '3578797S']"
      ],
      "execution_count": null,
      "outputs": [
        {
          "output_type": "execute_result",
          "data": {
            "text/html": [
              "<div>\n",
              "<style scoped>\n",
              "    .dataframe tbody tr th:only-of-type {\n",
              "        vertical-align: middle;\n",
              "    }\n",
              "\n",
              "    .dataframe tbody tr th {\n",
              "        vertical-align: top;\n",
              "    }\n",
              "\n",
              "    .dataframe thead th {\n",
              "        text-align: right;\n",
              "    }\n",
              "</style>\n",
              "<table border=\"1\" class=\"dataframe\">\n",
              "  <thead>\n",
              "    <tr style=\"text-align: right;\">\n",
              "      <th></th>\n",
              "      <th>d.kode_rs</th>\n",
              "      <th>d.nama_rs</th>\n",
              "      <th>d.nama_prop</th>\n",
              "      <th>d.jenis_rs</th>\n",
              "      <th>d.kelas</th>\n",
              "      <th>d.pemilik</th>\n",
              "      <th>(d.total_tt)</th>\n",
              "    </tr>\n",
              "  </thead>\n",
              "  <tbody>\n",
              "  </tbody>\n",
              "</table>\n",
              "</div>"
            ],
            "text/plain": [
              "Empty DataFrame\n",
              "Columns: [d.kode_rs, d.nama_rs, d.nama_prop, d.jenis_rs, d.kelas, d.pemilik, (d.total_tt)]\n",
              "Index: []"
            ]
          },
          "metadata": {
            "tags": []
          },
          "execution_count": 11
        }
      ]
    },
    {
      "cell_type": "code",
      "metadata": {
        "id": "JPVydy2aWIi6"
      },
      "source": [
        "df_umum['d.kode_rs'] = df_umum['d.kode_rs'].astype(np.int64)"
      ],
      "execution_count": null,
      "outputs": []
    },
    {
      "cell_type": "code",
      "metadata": {
        "id": "_SK4nJfzU5Te"
      },
      "source": [
        "df_united = pd.merge(df_akreditasi, df_umum, how=\"outer\", on=[\"d.kode_rs\"])"
      ],
      "execution_count": null,
      "outputs": []
    },
    {
      "cell_type": "code",
      "metadata": {
        "colab": {
          "base_uri": "https://localhost:8080/",
          "height": 340
        },
        "id": "62E6pLHKV3pw",
        "outputId": "ceeca441-0397-452d-8daf-80798a91d5c4"
      },
      "source": [
        "df_united.head()"
      ],
      "execution_count": null,
      "outputs": [
        {
          "output_type": "execute_result",
          "data": {
            "text/html": [
              "<div>\n",
              "<style scoped>\n",
              "    .dataframe tbody tr th:only-of-type {\n",
              "        vertical-align: middle;\n",
              "    }\n",
              "\n",
              "    .dataframe tbody tr th {\n",
              "        vertical-align: top;\n",
              "    }\n",
              "\n",
              "    .dataframe thead th {\n",
              "        text-align: right;\n",
              "    }\n",
              "</style>\n",
              "<table border=\"1\" class=\"dataframe\">\n",
              "  <thead>\n",
              "    <tr style=\"text-align: right;\">\n",
              "      <th></th>\n",
              "      <th>d.kode_rs</th>\n",
              "      <th>d.nama_rs_x</th>\n",
              "      <th>d.nama_prop_x</th>\n",
              "      <th>d.kelas_x</th>\n",
              "      <th>d.pemilik_x</th>\n",
              "      <th>d.akreditasi</th>\n",
              "      <th>d.nama_rs_y</th>\n",
              "      <th>d.nama_prop_y</th>\n",
              "      <th>d.jenis_rs</th>\n",
              "      <th>d.kelas_y</th>\n",
              "      <th>d.pemilik_y</th>\n",
              "      <th>(d.total_tt)</th>\n",
              "    </tr>\n",
              "  </thead>\n",
              "  <tbody>\n",
              "    <tr>\n",
              "      <th>0</th>\n",
              "      <td>3172748</td>\n",
              "      <td>RS Ibu dan Anak Bunda Aliyah</td>\n",
              "      <td>DKI JAKARTA</td>\n",
              "      <td>B</td>\n",
              "      <td>Perusahaan</td>\n",
              "      <td>Tingkat Paripurna</td>\n",
              "      <td>RS Ibu dan Anak Bunda Aliyah</td>\n",
              "      <td>DKI JAKARTA</td>\n",
              "      <td>RSIA</td>\n",
              "      <td>B</td>\n",
              "      <td>Perusahaan</td>\n",
              "      <td>66</td>\n",
              "    </tr>\n",
              "    <tr>\n",
              "      <th>1</th>\n",
              "      <td>1903005</td>\n",
              "      <td>RS Gunung Manik</td>\n",
              "      <td>KEPULAUAN BANGKA BELITUNG</td>\n",
              "      <td>D</td>\n",
              "      <td>Perusahaan</td>\n",
              "      <td>Tingkat Madya</td>\n",
              "      <td>RS Gunung Manik</td>\n",
              "      <td>KEPULAUAN BANGKA BELITUNG</td>\n",
              "      <td>RSU</td>\n",
              "      <td>D</td>\n",
              "      <td>Perusahaan</td>\n",
              "      <td>31</td>\n",
              "    </tr>\n",
              "    <tr>\n",
              "      <th>2</th>\n",
              "      <td>1275932</td>\n",
              "      <td>RS Gigi dan Mulut Prima</td>\n",
              "      <td>SUMATERA UTARA</td>\n",
              "      <td>C</td>\n",
              "      <td>SWASTA/ LAINNYA</td>\n",
              "      <td>Tingkat Madya</td>\n",
              "      <td>RS Gigi dan Mulut Prima</td>\n",
              "      <td>SUMATERA UTARA</td>\n",
              "      <td>RSK GM</td>\n",
              "      <td>C</td>\n",
              "      <td>SWASTA/ LAINNYA</td>\n",
              "      <td>0</td>\n",
              "    </tr>\n",
              "    <tr>\n",
              "      <th>3</th>\n",
              "      <td>3216446</td>\n",
              "      <td>RSIA Aisyah Qurrataain</td>\n",
              "      <td>JAWA BARAT</td>\n",
              "      <td>C</td>\n",
              "      <td>SWASTA/ LAINNYA</td>\n",
              "      <td>Tingkat Madya</td>\n",
              "      <td>RSIA Aisyah Qurrataain</td>\n",
              "      <td>JAWA BARAT</td>\n",
              "      <td>RSIA</td>\n",
              "      <td>C</td>\n",
              "      <td>SWASTA/ LAINNYA</td>\n",
              "      <td>54</td>\n",
              "    </tr>\n",
              "    <tr>\n",
              "      <th>4</th>\n",
              "      <td>3603193</td>\n",
              "      <td>RS Siloam Hospitals Kelapa Dua</td>\n",
              "      <td>BANTEN</td>\n",
              "      <td>C</td>\n",
              "      <td>Perusahaan</td>\n",
              "      <td>Tingkat Utama</td>\n",
              "      <td>RS Siloam Hospitals Kelapa Dua</td>\n",
              "      <td>BANTEN</td>\n",
              "      <td>RSU</td>\n",
              "      <td>C</td>\n",
              "      <td>Perusahaan</td>\n",
              "      <td>0</td>\n",
              "    </tr>\n",
              "  </tbody>\n",
              "</table>\n",
              "</div>"
            ],
            "text/plain": [
              "   d.kode_rs                     d.nama_rs_x  ...      d.pemilik_y (d.total_tt)\n",
              "0    3172748    RS Ibu dan Anak Bunda Aliyah  ...       Perusahaan           66\n",
              "1    1903005                 RS Gunung Manik  ...       Perusahaan           31\n",
              "2    1275932         RS Gigi dan Mulut Prima  ...  SWASTA/ LAINNYA            0\n",
              "3    3216446          RSIA Aisyah Qurrataain  ...  SWASTA/ LAINNYA           54\n",
              "4    3603193  RS Siloam Hospitals Kelapa Dua  ...       Perusahaan            0\n",
              "\n",
              "[5 rows x 12 columns]"
            ]
          },
          "metadata": {
            "tags": []
          },
          "execution_count": 14
        }
      ]
    },
    {
      "cell_type": "code",
      "metadata": {
        "id": "yEQwiTl9Xl4Z"
      },
      "source": [
        "df = pd.merge(df_united, df_rujukan, how=\"outer\", on=[\"d.kode_rs\"])"
      ],
      "execution_count": null,
      "outputs": []
    },
    {
      "cell_type": "code",
      "metadata": {
        "colab": {
          "base_uri": "https://localhost:8080/"
        },
        "id": "pVJImk24XvP1",
        "outputId": "29bcd1a7-1730-4a75-b187-851401c746ac"
      },
      "source": [
        "df.info()"
      ],
      "execution_count": null,
      "outputs": [
        {
          "output_type": "stream",
          "text": [
            "<class 'pandas.core.frame.DataFrame'>\n",
            "Int64Index: 2928 entries, 0 to 2927\n",
            "Data columns (total 17 columns):\n",
            " #   Column         Non-Null Count  Dtype \n",
            "---  ------         --------------  ----- \n",
            " 0   d.kode_rs      2928 non-null   int64 \n",
            " 1   d.nama_rs_x    2393 non-null   object\n",
            " 2   d.nama_prop_x  2393 non-null   object\n",
            " 3   d.kelas_x      2393 non-null   object\n",
            " 4   d.pemilik_x    2393 non-null   object\n",
            " 5   d.akreditasi   2393 non-null   object\n",
            " 6   d.nama_rs_y    2924 non-null   object\n",
            " 7   d.nama_prop_y  2924 non-null   object\n",
            " 8   d.jenis_rs     2924 non-null   object\n",
            " 9   d.kelas_y      2924 non-null   object\n",
            " 10  d.pemilik_y    2924 non-null   object\n",
            " 11  (d.total_tt)   2924 non-null   object\n",
            " 12  d.nama_rs      144 non-null    object\n",
            " 13  d.nama_prop    144 non-null    object\n",
            " 14  d.kelas        144 non-null    object\n",
            " 15  d.pemilik      144 non-null    object\n",
            " 16  d.rujukan      144 non-null    object\n",
            "dtypes: int64(1), object(16)\n",
            "memory usage: 411.8+ KB\n"
          ],
          "name": "stdout"
        }
      ]
    },
    {
      "cell_type": "code",
      "metadata": {
        "colab": {
          "base_uri": "https://localhost:8080/",
          "height": 444
        },
        "id": "m3HwuMqGZEBO",
        "outputId": "cf964a9f-b6a6-49fe-92a7-aa0349a07f16"
      },
      "source": [
        "df.describe(include='all')"
      ],
      "execution_count": null,
      "outputs": [
        {
          "output_type": "execute_result",
          "data": {
            "text/html": [
              "<div>\n",
              "<style scoped>\n",
              "    .dataframe tbody tr th:only-of-type {\n",
              "        vertical-align: middle;\n",
              "    }\n",
              "\n",
              "    .dataframe tbody tr th {\n",
              "        vertical-align: top;\n",
              "    }\n",
              "\n",
              "    .dataframe thead th {\n",
              "        text-align: right;\n",
              "    }\n",
              "</style>\n",
              "<table border=\"1\" class=\"dataframe\">\n",
              "  <thead>\n",
              "    <tr style=\"text-align: right;\">\n",
              "      <th></th>\n",
              "      <th>d.kode_rs</th>\n",
              "      <th>d.nama_rs_x</th>\n",
              "      <th>d.nama_prop_x</th>\n",
              "      <th>d.kelas_x</th>\n",
              "      <th>d.pemilik_x</th>\n",
              "      <th>d.akreditasi</th>\n",
              "      <th>d.nama_rs_y</th>\n",
              "      <th>d.nama_prop_y</th>\n",
              "      <th>d.jenis_rs</th>\n",
              "      <th>d.kelas_y</th>\n",
              "      <th>d.pemilik_y</th>\n",
              "      <th>(d.total_tt)</th>\n",
              "      <th>d.nama_rs</th>\n",
              "      <th>d.nama_prop</th>\n",
              "      <th>d.kelas</th>\n",
              "      <th>d.pemilik</th>\n",
              "      <th>d.rujukan</th>\n",
              "    </tr>\n",
              "  </thead>\n",
              "  <tbody>\n",
              "    <tr>\n",
              "      <th>count</th>\n",
              "      <td>2.928000e+03</td>\n",
              "      <td>2393</td>\n",
              "      <td>2393</td>\n",
              "      <td>2393</td>\n",
              "      <td>2393</td>\n",
              "      <td>2393</td>\n",
              "      <td>2924</td>\n",
              "      <td>2924</td>\n",
              "      <td>2924</td>\n",
              "      <td>2924</td>\n",
              "      <td>2924</td>\n",
              "      <td>2924</td>\n",
              "      <td>144</td>\n",
              "      <td>144</td>\n",
              "      <td>144</td>\n",
              "      <td>144</td>\n",
              "      <td>144</td>\n",
              "    </tr>\n",
              "    <tr>\n",
              "      <th>unique</th>\n",
              "      <td>NaN</td>\n",
              "      <td>2344</td>\n",
              "      <td>34</td>\n",
              "      <td>6</td>\n",
              "      <td>18</td>\n",
              "      <td>5</td>\n",
              "      <td>2863</td>\n",
              "      <td>34</td>\n",
              "      <td>17</td>\n",
              "      <td>6</td>\n",
              "      <td>18</td>\n",
              "      <td>361</td>\n",
              "      <td>143</td>\n",
              "      <td>34</td>\n",
              "      <td>4</td>\n",
              "      <td>4</td>\n",
              "      <td>3</td>\n",
              "    </tr>\n",
              "    <tr>\n",
              "      <th>top</th>\n",
              "      <td>NaN</td>\n",
              "      <td>RS Umum Permata Bunda</td>\n",
              "      <td>JAWA TIMUR</td>\n",
              "      <td>C</td>\n",
              "      <td>SWASTA/ LAINNYA</td>\n",
              "      <td>Tingkat Paripurna</td>\n",
              "      <td>RS Ibu dan Anak Mutiara Bunda</td>\n",
              "      <td>JAWA TIMUR</td>\n",
              "      <td>RSU</td>\n",
              "      <td>C</td>\n",
              "      <td>SWASTA/ LAINNYA</td>\n",
              "      <td>0</td>\n",
              "      <td>RS Umum Daerah Tarakan</td>\n",
              "      <td>JAWA TENGAH</td>\n",
              "      <td>B</td>\n",
              "      <td>Pemkab</td>\n",
              "      <td>Rujukan Regional</td>\n",
              "    </tr>\n",
              "    <tr>\n",
              "      <th>freq</th>\n",
              "      <td>NaN</td>\n",
              "      <td>4</td>\n",
              "      <td>342</td>\n",
              "      <td>1287</td>\n",
              "      <td>597</td>\n",
              "      <td>859</td>\n",
              "      <td>5</td>\n",
              "      <td>385</td>\n",
              "      <td>2394</td>\n",
              "      <td>1524</td>\n",
              "      <td>758</td>\n",
              "      <td>119</td>\n",
              "      <td>2</td>\n",
              "      <td>8</td>\n",
              "      <td>80</td>\n",
              "      <td>66</td>\n",
              "      <td>110</td>\n",
              "    </tr>\n",
              "    <tr>\n",
              "      <th>mean</th>\n",
              "      <td>3.763804e+06</td>\n",
              "      <td>NaN</td>\n",
              "      <td>NaN</td>\n",
              "      <td>NaN</td>\n",
              "      <td>NaN</td>\n",
              "      <td>NaN</td>\n",
              "      <td>NaN</td>\n",
              "      <td>NaN</td>\n",
              "      <td>NaN</td>\n",
              "      <td>NaN</td>\n",
              "      <td>NaN</td>\n",
              "      <td>NaN</td>\n",
              "      <td>NaN</td>\n",
              "      <td>NaN</td>\n",
              "      <td>NaN</td>\n",
              "      <td>NaN</td>\n",
              "      <td>NaN</td>\n",
              "    </tr>\n",
              "    <tr>\n",
              "      <th>std</th>\n",
              "      <td>2.024765e+06</td>\n",
              "      <td>NaN</td>\n",
              "      <td>NaN</td>\n",
              "      <td>NaN</td>\n",
              "      <td>NaN</td>\n",
              "      <td>NaN</td>\n",
              "      <td>NaN</td>\n",
              "      <td>NaN</td>\n",
              "      <td>NaN</td>\n",
              "      <td>NaN</td>\n",
              "      <td>NaN</td>\n",
              "      <td>NaN</td>\n",
              "      <td>NaN</td>\n",
              "      <td>NaN</td>\n",
              "      <td>NaN</td>\n",
              "      <td>NaN</td>\n",
              "      <td>NaN</td>\n",
              "    </tr>\n",
              "    <tr>\n",
              "      <th>min</th>\n",
              "      <td>1.101015e+06</td>\n",
              "      <td>NaN</td>\n",
              "      <td>NaN</td>\n",
              "      <td>NaN</td>\n",
              "      <td>NaN</td>\n",
              "      <td>NaN</td>\n",
              "      <td>NaN</td>\n",
              "      <td>NaN</td>\n",
              "      <td>NaN</td>\n",
              "      <td>NaN</td>\n",
              "      <td>NaN</td>\n",
              "      <td>NaN</td>\n",
              "      <td>NaN</td>\n",
              "      <td>NaN</td>\n",
              "      <td>NaN</td>\n",
              "      <td>NaN</td>\n",
              "      <td>NaN</td>\n",
              "    </tr>\n",
              "    <tr>\n",
              "      <th>25%</th>\n",
              "      <td>3.171053e+06</td>\n",
              "      <td>NaN</td>\n",
              "      <td>NaN</td>\n",
              "      <td>NaN</td>\n",
              "      <td>NaN</td>\n",
              "      <td>NaN</td>\n",
              "      <td>NaN</td>\n",
              "      <td>NaN</td>\n",
              "      <td>NaN</td>\n",
              "      <td>NaN</td>\n",
              "      <td>NaN</td>\n",
              "      <td>NaN</td>\n",
              "      <td>NaN</td>\n",
              "      <td>NaN</td>\n",
              "      <td>NaN</td>\n",
              "      <td>NaN</td>\n",
              "      <td>NaN</td>\n",
              "    </tr>\n",
              "    <tr>\n",
              "      <th>50%</th>\n",
              "      <td>3.319556e+06</td>\n",
              "      <td>NaN</td>\n",
              "      <td>NaN</td>\n",
              "      <td>NaN</td>\n",
              "      <td>NaN</td>\n",
              "      <td>NaN</td>\n",
              "      <td>NaN</td>\n",
              "      <td>NaN</td>\n",
              "      <td>NaN</td>\n",
              "      <td>NaN</td>\n",
              "      <td>NaN</td>\n",
              "      <td>NaN</td>\n",
              "      <td>NaN</td>\n",
              "      <td>NaN</td>\n",
              "      <td>NaN</td>\n",
              "      <td>NaN</td>\n",
              "      <td>NaN</td>\n",
              "    </tr>\n",
              "    <tr>\n",
              "      <th>75%</th>\n",
              "      <td>5.101294e+06</td>\n",
              "      <td>NaN</td>\n",
              "      <td>NaN</td>\n",
              "      <td>NaN</td>\n",
              "      <td>NaN</td>\n",
              "      <td>NaN</td>\n",
              "      <td>NaN</td>\n",
              "      <td>NaN</td>\n",
              "      <td>NaN</td>\n",
              "      <td>NaN</td>\n",
              "      <td>NaN</td>\n",
              "      <td>NaN</td>\n",
              "      <td>NaN</td>\n",
              "      <td>NaN</td>\n",
              "      <td>NaN</td>\n",
              "      <td>NaN</td>\n",
              "      <td>NaN</td>\n",
              "    </tr>\n",
              "    <tr>\n",
              "      <th>max</th>\n",
              "      <td>9.271079e+06</td>\n",
              "      <td>NaN</td>\n",
              "      <td>NaN</td>\n",
              "      <td>NaN</td>\n",
              "      <td>NaN</td>\n",
              "      <td>NaN</td>\n",
              "      <td>NaN</td>\n",
              "      <td>NaN</td>\n",
              "      <td>NaN</td>\n",
              "      <td>NaN</td>\n",
              "      <td>NaN</td>\n",
              "      <td>NaN</td>\n",
              "      <td>NaN</td>\n",
              "      <td>NaN</td>\n",
              "      <td>NaN</td>\n",
              "      <td>NaN</td>\n",
              "      <td>NaN</td>\n",
              "    </tr>\n",
              "  </tbody>\n",
              "</table>\n",
              "</div>"
            ],
            "text/plain": [
              "           d.kode_rs            d.nama_rs_x  ... d.pemilik         d.rujukan\n",
              "count   2.928000e+03                   2393  ...       144               144\n",
              "unique           NaN                   2344  ...         4                 3\n",
              "top              NaN  RS Umum Permata Bunda  ...    Pemkab  Rujukan Regional\n",
              "freq             NaN                      4  ...        66               110\n",
              "mean    3.763804e+06                    NaN  ...       NaN               NaN\n",
              "std     2.024765e+06                    NaN  ...       NaN               NaN\n",
              "min     1.101015e+06                    NaN  ...       NaN               NaN\n",
              "25%     3.171053e+06                    NaN  ...       NaN               NaN\n",
              "50%     3.319556e+06                    NaN  ...       NaN               NaN\n",
              "75%     5.101294e+06                    NaN  ...       NaN               NaN\n",
              "max     9.271079e+06                    NaN  ...       NaN               NaN\n",
              "\n",
              "[11 rows x 17 columns]"
            ]
          },
          "metadata": {
            "tags": []
          },
          "execution_count": 17
        }
      ]
    },
    {
      "cell_type": "code",
      "metadata": {
        "colab": {
          "base_uri": "https://localhost:8080/",
          "height": 69
        },
        "id": "4Z6TuKo2ZpaD",
        "outputId": "94987081-9201-4d92-b2de-6683e31ede57"
      },
      "source": [
        "df[df['d.kode_rs'].isna()]"
      ],
      "execution_count": null,
      "outputs": [
        {
          "output_type": "execute_result",
          "data": {
            "text/html": [
              "<div>\n",
              "<style scoped>\n",
              "    .dataframe tbody tr th:only-of-type {\n",
              "        vertical-align: middle;\n",
              "    }\n",
              "\n",
              "    .dataframe tbody tr th {\n",
              "        vertical-align: top;\n",
              "    }\n",
              "\n",
              "    .dataframe thead th {\n",
              "        text-align: right;\n",
              "    }\n",
              "</style>\n",
              "<table border=\"1\" class=\"dataframe\">\n",
              "  <thead>\n",
              "    <tr style=\"text-align: right;\">\n",
              "      <th></th>\n",
              "      <th>d.kode_rs</th>\n",
              "      <th>d.nama_rs_x</th>\n",
              "      <th>d.nama_prop_x</th>\n",
              "      <th>d.kelas_x</th>\n",
              "      <th>d.pemilik_x</th>\n",
              "      <th>d.akreditasi</th>\n",
              "      <th>d.nama_rs_y</th>\n",
              "      <th>d.nama_prop_y</th>\n",
              "      <th>d.jenis_rs</th>\n",
              "      <th>d.kelas_y</th>\n",
              "      <th>d.pemilik_y</th>\n",
              "      <th>(d.total_tt)</th>\n",
              "      <th>d.nama_rs</th>\n",
              "      <th>d.nama_prop</th>\n",
              "      <th>d.kelas</th>\n",
              "      <th>d.pemilik</th>\n",
              "      <th>d.rujukan</th>\n",
              "    </tr>\n",
              "  </thead>\n",
              "  <tbody>\n",
              "  </tbody>\n",
              "</table>\n",
              "</div>"
            ],
            "text/plain": [
              "Empty DataFrame\n",
              "Columns: [d.kode_rs, d.nama_rs_x, d.nama_prop_x, d.kelas_x, d.pemilik_x, d.akreditasi, d.nama_rs_y, d.nama_prop_y, d.jenis_rs, d.kelas_y, d.pemilik_y, (d.total_tt), d.nama_rs, d.nama_prop, d.kelas, d.pemilik, d.rujukan]\n",
              "Index: []"
            ]
          },
          "metadata": {
            "tags": []
          },
          "execution_count": 18
        }
      ]
    },
    {
      "cell_type": "code",
      "metadata": {
        "id": "VM4as4FrXwp_"
      },
      "source": [
        "df.drop(['d.nama_rs', 'd.nama_rs_x', 'd.nama_prop_x', 'd.nama_prop', 'd.kelas', 'd.pemilik', 'd.pemilik_x', 'd.kelas_x'], axis=1, inplace=True)"
      ],
      "execution_count": null,
      "outputs": []
    },
    {
      "cell_type": "code",
      "metadata": {
        "colab": {
          "base_uri": "https://localhost:8080/",
          "height": 204
        },
        "id": "627nPcwFah0z",
        "outputId": "d234ef13-0ff5-496d-c087-d9a4afbd6ab4"
      },
      "source": [
        "df.head()"
      ],
      "execution_count": null,
      "outputs": [
        {
          "output_type": "execute_result",
          "data": {
            "text/html": [
              "<div>\n",
              "<style scoped>\n",
              "    .dataframe tbody tr th:only-of-type {\n",
              "        vertical-align: middle;\n",
              "    }\n",
              "\n",
              "    .dataframe tbody tr th {\n",
              "        vertical-align: top;\n",
              "    }\n",
              "\n",
              "    .dataframe thead th {\n",
              "        text-align: right;\n",
              "    }\n",
              "</style>\n",
              "<table border=\"1\" class=\"dataframe\">\n",
              "  <thead>\n",
              "    <tr style=\"text-align: right;\">\n",
              "      <th></th>\n",
              "      <th>d.kode_rs</th>\n",
              "      <th>d.akreditasi</th>\n",
              "      <th>d.nama_rs_y</th>\n",
              "      <th>d.nama_prop_y</th>\n",
              "      <th>d.jenis_rs</th>\n",
              "      <th>d.kelas_y</th>\n",
              "      <th>d.pemilik_y</th>\n",
              "      <th>(d.total_tt)</th>\n",
              "      <th>d.rujukan</th>\n",
              "    </tr>\n",
              "  </thead>\n",
              "  <tbody>\n",
              "    <tr>\n",
              "      <th>0</th>\n",
              "      <td>3172748</td>\n",
              "      <td>Tingkat Paripurna</td>\n",
              "      <td>RS Ibu dan Anak Bunda Aliyah</td>\n",
              "      <td>DKI JAKARTA</td>\n",
              "      <td>RSIA</td>\n",
              "      <td>B</td>\n",
              "      <td>Perusahaan</td>\n",
              "      <td>66</td>\n",
              "      <td>NaN</td>\n",
              "    </tr>\n",
              "    <tr>\n",
              "      <th>1</th>\n",
              "      <td>1903005</td>\n",
              "      <td>Tingkat Madya</td>\n",
              "      <td>RS Gunung Manik</td>\n",
              "      <td>KEPULAUAN BANGKA BELITUNG</td>\n",
              "      <td>RSU</td>\n",
              "      <td>D</td>\n",
              "      <td>Perusahaan</td>\n",
              "      <td>31</td>\n",
              "      <td>NaN</td>\n",
              "    </tr>\n",
              "    <tr>\n",
              "      <th>2</th>\n",
              "      <td>1275932</td>\n",
              "      <td>Tingkat Madya</td>\n",
              "      <td>RS Gigi dan Mulut Prima</td>\n",
              "      <td>SUMATERA UTARA</td>\n",
              "      <td>RSK GM</td>\n",
              "      <td>C</td>\n",
              "      <td>SWASTA/ LAINNYA</td>\n",
              "      <td>0</td>\n",
              "      <td>NaN</td>\n",
              "    </tr>\n",
              "    <tr>\n",
              "      <th>3</th>\n",
              "      <td>3216446</td>\n",
              "      <td>Tingkat Madya</td>\n",
              "      <td>RSIA Aisyah Qurrataain</td>\n",
              "      <td>JAWA BARAT</td>\n",
              "      <td>RSIA</td>\n",
              "      <td>C</td>\n",
              "      <td>SWASTA/ LAINNYA</td>\n",
              "      <td>54</td>\n",
              "      <td>NaN</td>\n",
              "    </tr>\n",
              "    <tr>\n",
              "      <th>4</th>\n",
              "      <td>3603193</td>\n",
              "      <td>Tingkat Utama</td>\n",
              "      <td>RS Siloam Hospitals Kelapa Dua</td>\n",
              "      <td>BANTEN</td>\n",
              "      <td>RSU</td>\n",
              "      <td>C</td>\n",
              "      <td>Perusahaan</td>\n",
              "      <td>0</td>\n",
              "      <td>NaN</td>\n",
              "    </tr>\n",
              "  </tbody>\n",
              "</table>\n",
              "</div>"
            ],
            "text/plain": [
              "   d.kode_rs       d.akreditasi  ... (d.total_tt) d.rujukan\n",
              "0    3172748  Tingkat Paripurna  ...           66       NaN\n",
              "1    1903005      Tingkat Madya  ...           31       NaN\n",
              "2    1275932      Tingkat Madya  ...            0       NaN\n",
              "3    3216446      Tingkat Madya  ...           54       NaN\n",
              "4    3603193      Tingkat Utama  ...            0       NaN\n",
              "\n",
              "[5 rows x 9 columns]"
            ]
          },
          "metadata": {
            "tags": []
          },
          "execution_count": 20
        }
      ]
    },
    {
      "cell_type": "code",
      "metadata": {
        "id": "LT_xsi2xaizP"
      },
      "source": [
        "df.rename(columns={'d.kode_rs':'kode_rs',\n",
        "                   'd.akreditasi':'akreditasi',\n",
        "                   'd.nama_rs_y':'nama_rs',\n",
        "                   'd.nama_prop_y':'provinsi',\n",
        "                   'd.jenis_rs':'jenis',\n",
        "                   'd.kelas_y':'kelas',\n",
        "                   'd.pemilik_y':'pemilik',\n",
        "                   '(d.total_tt)':'total_tempat_tidur',\n",
        "                   'd.rujukan':'rujukan'}, inplace=True)"
      ],
      "execution_count": null,
      "outputs": []
    },
    {
      "cell_type": "code",
      "metadata": {
        "colab": {
          "base_uri": "https://localhost:8080/",
          "height": 204
        },
        "id": "bP5qUzFqbW9w",
        "outputId": "f899ac6a-d18c-47b3-be59-6475f8da6283"
      },
      "source": [
        "df.head()"
      ],
      "execution_count": null,
      "outputs": [
        {
          "output_type": "execute_result",
          "data": {
            "text/html": [
              "<div>\n",
              "<style scoped>\n",
              "    .dataframe tbody tr th:only-of-type {\n",
              "        vertical-align: middle;\n",
              "    }\n",
              "\n",
              "    .dataframe tbody tr th {\n",
              "        vertical-align: top;\n",
              "    }\n",
              "\n",
              "    .dataframe thead th {\n",
              "        text-align: right;\n",
              "    }\n",
              "</style>\n",
              "<table border=\"1\" class=\"dataframe\">\n",
              "  <thead>\n",
              "    <tr style=\"text-align: right;\">\n",
              "      <th></th>\n",
              "      <th>kode_rs</th>\n",
              "      <th>akreditasi</th>\n",
              "      <th>nama_rs</th>\n",
              "      <th>provinsi</th>\n",
              "      <th>jenis</th>\n",
              "      <th>kelas</th>\n",
              "      <th>pemilik</th>\n",
              "      <th>total_tempat_tidur</th>\n",
              "      <th>rujukan</th>\n",
              "    </tr>\n",
              "  </thead>\n",
              "  <tbody>\n",
              "    <tr>\n",
              "      <th>0</th>\n",
              "      <td>3172748</td>\n",
              "      <td>Tingkat Paripurna</td>\n",
              "      <td>RS Ibu dan Anak Bunda Aliyah</td>\n",
              "      <td>DKI JAKARTA</td>\n",
              "      <td>RSIA</td>\n",
              "      <td>B</td>\n",
              "      <td>Perusahaan</td>\n",
              "      <td>66</td>\n",
              "      <td>NaN</td>\n",
              "    </tr>\n",
              "    <tr>\n",
              "      <th>1</th>\n",
              "      <td>1903005</td>\n",
              "      <td>Tingkat Madya</td>\n",
              "      <td>RS Gunung Manik</td>\n",
              "      <td>KEPULAUAN BANGKA BELITUNG</td>\n",
              "      <td>RSU</td>\n",
              "      <td>D</td>\n",
              "      <td>Perusahaan</td>\n",
              "      <td>31</td>\n",
              "      <td>NaN</td>\n",
              "    </tr>\n",
              "    <tr>\n",
              "      <th>2</th>\n",
              "      <td>1275932</td>\n",
              "      <td>Tingkat Madya</td>\n",
              "      <td>RS Gigi dan Mulut Prima</td>\n",
              "      <td>SUMATERA UTARA</td>\n",
              "      <td>RSK GM</td>\n",
              "      <td>C</td>\n",
              "      <td>SWASTA/ LAINNYA</td>\n",
              "      <td>0</td>\n",
              "      <td>NaN</td>\n",
              "    </tr>\n",
              "    <tr>\n",
              "      <th>3</th>\n",
              "      <td>3216446</td>\n",
              "      <td>Tingkat Madya</td>\n",
              "      <td>RSIA Aisyah Qurrataain</td>\n",
              "      <td>JAWA BARAT</td>\n",
              "      <td>RSIA</td>\n",
              "      <td>C</td>\n",
              "      <td>SWASTA/ LAINNYA</td>\n",
              "      <td>54</td>\n",
              "      <td>NaN</td>\n",
              "    </tr>\n",
              "    <tr>\n",
              "      <th>4</th>\n",
              "      <td>3603193</td>\n",
              "      <td>Tingkat Utama</td>\n",
              "      <td>RS Siloam Hospitals Kelapa Dua</td>\n",
              "      <td>BANTEN</td>\n",
              "      <td>RSU</td>\n",
              "      <td>C</td>\n",
              "      <td>Perusahaan</td>\n",
              "      <td>0</td>\n",
              "      <td>NaN</td>\n",
              "    </tr>\n",
              "  </tbody>\n",
              "</table>\n",
              "</div>"
            ],
            "text/plain": [
              "   kode_rs         akreditasi  ... total_tempat_tidur rujukan\n",
              "0  3172748  Tingkat Paripurna  ...                 66     NaN\n",
              "1  1903005      Tingkat Madya  ...                 31     NaN\n",
              "2  1275932      Tingkat Madya  ...                  0     NaN\n",
              "3  3216446      Tingkat Madya  ...                 54     NaN\n",
              "4  3603193      Tingkat Utama  ...                  0     NaN\n",
              "\n",
              "[5 rows x 9 columns]"
            ]
          },
          "metadata": {
            "tags": []
          },
          "execution_count": 22
        }
      ]
    },
    {
      "cell_type": "code",
      "metadata": {
        "colab": {
          "base_uri": "https://localhost:8080/"
        },
        "id": "cw-2h9tXbcxZ",
        "outputId": "796180ac-84dc-4b9e-f97f-bdfea66dd1e7"
      },
      "source": [
        "df.value_counts()"
      ],
      "execution_count": null,
      "outputs": [
        {
          "output_type": "execute_result",
          "data": {
            "text/plain": [
              "kode_rs  akreditasi         nama_rs                               provinsi        jenis  kelas  pemilik  total_tempat_tidur  rujukan         \n",
              "9271023  Tingkat Paripurna  RS Umum Abepura                       PAPUA           RSU    C      Pemprop  198                 Rujukan Regional    1\n",
              "3175016  Tingkat Paripurna  RS Umum Daerah Koja                   DKI JAKARTA     RSU    B      Pemprop  442                 Rujukan Regional    1\n",
              "3273015  Tingkat Paripurna  RS Umum Pusat Dr. Hasan Sadikin       JAWA BARAT      RSU    A      Kemkes   794                 Rujukan Nasional    1\n",
              "3272014  Tingkat Paripurna   RS Umum Daerah  R Syamsudin SH       JAWA BARAT      RSU    B      Pemkot   520                 Rujukan Regional    1\n",
              "3215012  Tingkat Paripurna   RS Umum Daerah Karawang              JAWA BARAT      RSU    B      Pemkab   392                 Rujukan Regional    1\n",
              "                                                                                                                                                ..\n",
              "7102120  Tingkat Dasar       RS Umum Noongan                      SULAWESI UTARA  RSU    C      Pemprop  60                  Rujukan Regional    1\n",
              "7103015  Tingkat Dasar       RS Umum Liun Kendage                 SULAWESI UTARA  RSU    C      Pemkab   114                 Rujukan Regional    1\n",
              "7106018  Lulus Perdana      RS Umum Daerah Maria Walanda Maramis  SULAWESI UTARA  RSU    C      Pemkab   89                  Rujukan Regional    1\n",
              "7171013  Tingkat Paripurna  RSUP Prof. Dr. R. D. Kandou           SULAWESI UTARA  RSU    A      Kemkes   849                 Rujukan Nasional    1\n",
              "1103010  Tingkat Paripurna  RS Umum Daerah Dr. H. Yulidin Away    ACEH            RSU    B      Pemkab   210                 Rujukan Regional    1\n",
              "Length: 141, dtype: int64"
            ]
          },
          "metadata": {
            "tags": []
          },
          "execution_count": 23
        }
      ]
    },
    {
      "cell_type": "code",
      "metadata": {
        "colab": {
          "base_uri": "https://localhost:8080/",
          "height": 297
        },
        "id": "d9ZrAmiObpLq",
        "outputId": "2122e88c-e69c-4af6-a6f4-b700c24248bc"
      },
      "source": [
        "df.describe()"
      ],
      "execution_count": null,
      "outputs": [
        {
          "output_type": "execute_result",
          "data": {
            "text/html": [
              "<div>\n",
              "<style scoped>\n",
              "    .dataframe tbody tr th:only-of-type {\n",
              "        vertical-align: middle;\n",
              "    }\n",
              "\n",
              "    .dataframe tbody tr th {\n",
              "        vertical-align: top;\n",
              "    }\n",
              "\n",
              "    .dataframe thead th {\n",
              "        text-align: right;\n",
              "    }\n",
              "</style>\n",
              "<table border=\"1\" class=\"dataframe\">\n",
              "  <thead>\n",
              "    <tr style=\"text-align: right;\">\n",
              "      <th></th>\n",
              "      <th>kode_rs</th>\n",
              "    </tr>\n",
              "  </thead>\n",
              "  <tbody>\n",
              "    <tr>\n",
              "      <th>count</th>\n",
              "      <td>2.928000e+03</td>\n",
              "    </tr>\n",
              "    <tr>\n",
              "      <th>mean</th>\n",
              "      <td>3.763804e+06</td>\n",
              "    </tr>\n",
              "    <tr>\n",
              "      <th>std</th>\n",
              "      <td>2.024765e+06</td>\n",
              "    </tr>\n",
              "    <tr>\n",
              "      <th>min</th>\n",
              "      <td>1.101015e+06</td>\n",
              "    </tr>\n",
              "    <tr>\n",
              "      <th>25%</th>\n",
              "      <td>3.171053e+06</td>\n",
              "    </tr>\n",
              "    <tr>\n",
              "      <th>50%</th>\n",
              "      <td>3.319556e+06</td>\n",
              "    </tr>\n",
              "    <tr>\n",
              "      <th>75%</th>\n",
              "      <td>5.101294e+06</td>\n",
              "    </tr>\n",
              "    <tr>\n",
              "      <th>max</th>\n",
              "      <td>9.271079e+06</td>\n",
              "    </tr>\n",
              "  </tbody>\n",
              "</table>\n",
              "</div>"
            ],
            "text/plain": [
              "            kode_rs\n",
              "count  2.928000e+03\n",
              "mean   3.763804e+06\n",
              "std    2.024765e+06\n",
              "min    1.101015e+06\n",
              "25%    3.171053e+06\n",
              "50%    3.319556e+06\n",
              "75%    5.101294e+06\n",
              "max    9.271079e+06"
            ]
          },
          "metadata": {
            "tags": []
          },
          "execution_count": 24
        }
      ]
    },
    {
      "cell_type": "code",
      "metadata": {
        "colab": {
          "base_uri": "https://localhost:8080/",
          "height": 283
        },
        "id": "EzW30gSnbuR5",
        "outputId": "c468c7f8-026f-4288-b3dc-9e65fb69b1a2"
      },
      "source": [
        "sns.set_theme(style=\"darkgrid\")\n",
        "plt.figure(figsize=(30, 6))\n",
        "ax = sns.countplot(x=\"provinsi\", data=df, order = df['provinsi'].value_counts().index)"
      ],
      "execution_count": null,
      "outputs": [
        {
          "output_type": "display_data",
          "data": {
            "image/png": "[encoded data removed]",
            "text/plain": [
              "<Figure size 2160x432 with 1 Axes>"
            ]
          },
          "metadata": {
            "tags": []
          }
        }
      ]
    },
    {
      "cell_type": "code",
      "metadata": {
        "id": "-qU9aG8zcBPm"
      },
      "source": [
        "new_df = df[(df['provinsi'] == 'DKI JAKARTA')]"
      ],
      "execution_count": null,
      "outputs": []
    },
    {
      "cell_type": "code",
      "metadata": {
        "colab": {
          "base_uri": "https://localhost:8080/",
          "height": 397
        },
        "id": "3ZsEwBHydlIS",
        "outputId": "7b17c63d-d848-4112-dcbf-703c97e1c6a5"
      },
      "source": [
        "sns.set_theme(style=\"darkgrid\")\n",
        "plt.figure(figsize=(12, 6))\n",
        "ax = sns.countplot(x=\"provinsi\", data=new_df, order = new_df['provinsi'].value_counts().index)"
      ],
      "execution_count": null,
      "outputs": [
        {
          "output_type": "display_data",
          "data": {
            "image/png": "[encoded data removed]",
            "text/plain": [
              "<Figure size 864x432 with 1 Axes>"
            ]
          },
          "metadata": {
            "tags": []
          }
        }
      ]
    },
    {
      "cell_type": "code",
      "metadata": {
        "colab": {
          "base_uri": "https://localhost:8080/",
          "height": 394
        },
        "id": "UFMxPxj7d-UV",
        "outputId": "7c37ae59-5c42-4f37-af31-ac4354769d47"
      },
      "source": [
        "sns.set_theme(style=\"darkgrid\")\n",
        "plt.figure(figsize=(12, 6))\n",
        "ax = sns.countplot(x=\"kelas\", data=new_df, order = new_df['kelas'].value_counts().index)"
      ],
      "execution_count": null,
      "outputs": [
        {
          "output_type": "display_data",
          "data": {
            "image/png": "[encoded data removed]",
            "text/plain": [
              "<Figure size 864x432 with 1 Axes>"
            ]
          },
          "metadata": {
            "tags": []
          }
        }
      ]
    },
    {
      "cell_type": "code",
      "metadata": {
        "colab": {
          "base_uri": "https://localhost:8080/",
          "height": 394
        },
        "id": "2dhm0a-DeGbJ",
        "outputId": "234c4640-238e-4100-b1a4-9e880ffddcad"
      },
      "source": [
        "sns.set_theme(style=\"darkgrid\")\n",
        "plt.figure(figsize=(12, 6))\n",
        "ax = sns.countplot(x=\"akreditasi\", data=new_df, order = new_df['akreditasi'].value_counts().index)"
      ],
      "execution_count": null,
      "outputs": [
        {
          "output_type": "display_data",
          "data": {
            "image/png": "[encoded data removed]",
            "text/plain": [
              "<Figure size 864x432 with 1 Axes>"
            ]
          },
          "metadata": {
            "tags": []
          }
        }
      ]
    },
    {
      "cell_type": "code",
      "metadata": {
        "colab": {
          "base_uri": "https://localhost:8080/",
          "height": 381
        },
        "id": "WPzRdUdxetZX",
        "outputId": "16ef7f2d-9d74-449a-ceef-3de75b88bca6"
      },
      "source": [
        "sns.set_theme(style=\"darkgrid\")\n",
        "plt.figure(figsize=(22, 6))\n",
        "ax = sns.countplot(x=\"jenis\", data=new_df, order = new_df['jenis'].value_counts().index)"
      ],
      "execution_count": null,
      "outputs": [
        {
          "output_type": "display_data",
          "data": {
            "image/png": "[encoded data removed]",
            "text/plain": [
              "<Figure size 1584x432 with 1 Axes>"
            ]
          },
          "metadata": {
            "tags": []
          }
        }
      ]
    },
    {
      "cell_type": "code",
      "metadata": {
        "colab": {
          "base_uri": "https://localhost:8080/",
          "height": 288
        },
        "id": "uUcT8oEQevJB",
        "outputId": "416b99b5-7c83-48ec-b01c-67bffb6b18d5"
      },
      "source": [
        "sns.set_theme(style=\"darkgrid\")\n",
        "plt.figure(figsize=(30, 6))\n",
        "ax = sns.countplot(x=\"pemilik\", data=new_df, order = new_df['pemilik'].value_counts().index)"
      ],
      "execution_count": null,
      "outputs": [
        {
          "output_type": "display_data",
          "data": {
            "image/png": "[encoded data removed]",
            "text/plain": [
              "<Figure size 2160x432 with 1 Axes>"
            ]
          },
          "metadata": {
            "tags": []
          }
        }
      ]
    },
    {
      "cell_type": "code",
      "metadata": {
        "colab": {
          "base_uri": "https://localhost:8080/",
          "height": 238
        },
        "id": "HbHOjImFe4_C",
        "outputId": "569a7582-8944-4441-9dc0-1ad67dd9b05d"
      },
      "source": [
        "df_ttclass.head()"
      ],
      "execution_count": null,
      "outputs": [
        {
          "output_type": "execute_result",
          "data": {
            "text/html": [
              "<div>\n",
              "<style scoped>\n",
              "    .dataframe tbody tr th:only-of-type {\n",
              "        vertical-align: middle;\n",
              "    }\n",
              "\n",
              "    .dataframe tbody tr th {\n",
              "        vertical-align: top;\n",
              "    }\n",
              "\n",
              "    .dataframe thead th {\n",
              "        text-align: right;\n",
              "    }\n",
              "</style>\n",
              "<table border=\"1\" class=\"dataframe\">\n",
              "  <thead>\n",
              "    <tr style=\"text-align: right;\">\n",
              "      <th></th>\n",
              "      <th>Name,C,254</th>\n",
              "      <th>Address,C,254</th>\n",
              "      <th>Type,C,254</th>\n",
              "      <th>Class,C,254</th>\n",
              "      <th>District,C,254</th>\n",
              "      <th>Province,C,254</th>\n",
              "      <th>Lat,N,24,15</th>\n",
              "      <th>Long,N,24,15</th>\n",
              "      <th>Hospital,C,254</th>\n",
              "    </tr>\n",
              "  </thead>\n",
              "  <tbody>\n",
              "    <tr>\n",
              "      <th>0</th>\n",
              "      <td>RS Medika Stania</td>\n",
              "      <td>Jl. Jend. Sudirman No.3,Sungailiat</td>\n",
              "      <td>A</td>\n",
              "      <td>NaN</td>\n",
              "      <td>Bangka</td>\n",
              "      <td>Bangka Belitung</td>\n",
              "      <td>-1.875800</td>\n",
              "      <td>106.097000</td>\n",
              "      <td>rs</td>\n",
              "    </tr>\n",
              "    <tr>\n",
              "      <th>1</th>\n",
              "      <td>RSU Bakti Timah</td>\n",
              "      <td>Jl. Bukit Baru No.1,Pangkal Pinang</td>\n",
              "      <td>A</td>\n",
              "      <td>C</td>\n",
              "      <td>Bangka</td>\n",
              "      <td>Bangka Belitung</td>\n",
              "      <td>-2.230789</td>\n",
              "      <td>106.134569</td>\n",
              "      <td>rs</td>\n",
              "    </tr>\n",
              "    <tr>\n",
              "      <th>2</th>\n",
              "      <td>RSUD Kab.Bangka Tengah</td>\n",
              "      <td>Jl. By Pass Koba,bangka Tengah</td>\n",
              "      <td>A</td>\n",
              "      <td>D</td>\n",
              "      <td>Bangka Tengah</td>\n",
              "      <td>Bangka Belitung</td>\n",
              "      <td>-2.443900</td>\n",
              "      <td>106.200167</td>\n",
              "      <td>rs</td>\n",
              "    </tr>\n",
              "    <tr>\n",
              "      <th>3</th>\n",
              "      <td>RS Almah</td>\n",
              "      <td>Jl. Raya Air Kenanga Kec. Sungailiat Kab. Bangka</td>\n",
              "      <td>A</td>\n",
              "      <td>A</td>\n",
              "      <td>NaN</td>\n",
              "      <td>Bangka Belitung</td>\n",
              "      <td>-1.875800</td>\n",
              "      <td>106.097000</td>\n",
              "      <td>rs</td>\n",
              "    </tr>\n",
              "    <tr>\n",
              "      <th>4</th>\n",
              "      <td>RSUD Sejiran Setason</td>\n",
              "      <td>Jl. Kadur Dalam Muntok Bangka Barat</td>\n",
              "      <td>A</td>\n",
              "      <td>D</td>\n",
              "      <td>Bangka Barat</td>\n",
              "      <td>Bangka Belitung</td>\n",
              "      <td>-1.837403</td>\n",
              "      <td>105.445775</td>\n",
              "      <td>rs</td>\n",
              "    </tr>\n",
              "  </tbody>\n",
              "</table>\n",
              "</div>"
            ],
            "text/plain": [
              "               Name,C,254  ... Hospital,C,254\n",
              "0        RS Medika Stania  ...             rs\n",
              "1         RSU Bakti Timah  ...             rs\n",
              "2  RSUD Kab.Bangka Tengah  ...             rs\n",
              "3                RS Almah  ...             rs\n",
              "4    RSUD Sejiran Setason  ...             rs\n",
              "\n",
              "[5 rows x 9 columns]"
            ]
          },
          "metadata": {
            "tags": []
          },
          "execution_count": 32
        }
      ]
    },
    {
      "cell_type": "code",
      "metadata": {
        "colab": {
          "base_uri": "https://localhost:8080/",
          "height": 289
        },
        "id": "fksoGayJfAa9",
        "outputId": "e6941ffa-b0bb-4209-dd49-7f6be6b9e9f3"
      },
      "source": [
        "new_df.head()"
      ],
      "execution_count": null,
      "outputs": [
        {
          "output_type": "execute_result",
          "data": {
            "text/html": [
              "<div>\n",
              "<style scoped>\n",
              "    .dataframe tbody tr th:only-of-type {\n",
              "        vertical-align: middle;\n",
              "    }\n",
              "\n",
              "    .dataframe tbody tr th {\n",
              "        vertical-align: top;\n",
              "    }\n",
              "\n",
              "    .dataframe thead th {\n",
              "        text-align: right;\n",
              "    }\n",
              "</style>\n",
              "<table border=\"1\" class=\"dataframe\">\n",
              "  <thead>\n",
              "    <tr style=\"text-align: right;\">\n",
              "      <th></th>\n",
              "      <th>kode_rs</th>\n",
              "      <th>akreditasi</th>\n",
              "      <th>nama_rs</th>\n",
              "      <th>provinsi</th>\n",
              "      <th>jenis</th>\n",
              "      <th>kelas</th>\n",
              "      <th>pemilik</th>\n",
              "      <th>total_tempat_tidur</th>\n",
              "      <th>rujukan</th>\n",
              "    </tr>\n",
              "  </thead>\n",
              "  <tbody>\n",
              "    <tr>\n",
              "      <th>0</th>\n",
              "      <td>3172748</td>\n",
              "      <td>Tingkat Paripurna</td>\n",
              "      <td>RS Ibu dan Anak Bunda Aliyah</td>\n",
              "      <td>DKI JAKARTA</td>\n",
              "      <td>RSIA</td>\n",
              "      <td>B</td>\n",
              "      <td>Perusahaan</td>\n",
              "      <td>66</td>\n",
              "      <td>NaN</td>\n",
              "    </tr>\n",
              "    <tr>\n",
              "      <th>12</th>\n",
              "      <td>3171803</td>\n",
              "      <td>Tingkat Madya</td>\n",
              "      <td>RS Umum Daerah Kebayoran Lama</td>\n",
              "      <td>DKI JAKARTA</td>\n",
              "      <td>RSU</td>\n",
              "      <td>D</td>\n",
              "      <td>Pemprop</td>\n",
              "      <td>35</td>\n",
              "      <td>NaN</td>\n",
              "    </tr>\n",
              "    <tr>\n",
              "      <th>13</th>\n",
              "      <td>3172771</td>\n",
              "      <td>Tingkat Utama</td>\n",
              "      <td>RSUD CIPAYUNG</td>\n",
              "      <td>DKI JAKARTA</td>\n",
              "      <td>RSU</td>\n",
              "      <td>D</td>\n",
              "      <td>Pemprop</td>\n",
              "      <td>59</td>\n",
              "      <td>NaN</td>\n",
              "    </tr>\n",
              "    <tr>\n",
              "      <th>70</th>\n",
              "      <td>3171802</td>\n",
              "      <td>Lulus Perdana</td>\n",
              "      <td>RS Khusus Bedah Halimun</td>\n",
              "      <td>DKI JAKARTA</td>\n",
              "      <td>RSK BEDAH</td>\n",
              "      <td>C</td>\n",
              "      <td>Perusahaan</td>\n",
              "      <td>18</td>\n",
              "      <td>NaN</td>\n",
              "    </tr>\n",
              "    <tr>\n",
              "      <th>72</th>\n",
              "      <td>3173707</td>\n",
              "      <td>Tingkat Paripurna</td>\n",
              "      <td>RS Gigi Dan Mulut YARSI</td>\n",
              "      <td>DKI JAKARTA</td>\n",
              "      <td>RSK GM</td>\n",
              "      <td>B</td>\n",
              "      <td>SWASTA/ LAINNYA</td>\n",
              "      <td>3</td>\n",
              "      <td>NaN</td>\n",
              "    </tr>\n",
              "  </tbody>\n",
              "</table>\n",
              "</div>"
            ],
            "text/plain": [
              "    kode_rs         akreditasi  ... total_tempat_tidur rujukan\n",
              "0   3172748  Tingkat Paripurna  ...                 66     NaN\n",
              "12  3171803      Tingkat Madya  ...                 35     NaN\n",
              "13  3172771      Tingkat Utama  ...                 59     NaN\n",
              "70  3171802      Lulus Perdana  ...                 18     NaN\n",
              "72  3173707  Tingkat Paripurna  ...                  3     NaN\n",
              "\n",
              "[5 rows x 9 columns]"
            ]
          },
          "metadata": {
            "tags": []
          },
          "execution_count": 99
        }
      ]
    },
    {
      "cell_type": "code",
      "metadata": {
        "colab": {
          "base_uri": "https://localhost:8080/"
        },
        "id": "sRj8BAhCad_D",
        "outputId": "e4b0ba3a-efb9-4790-b0bb-decfbe79947b"
      },
      "source": [
        "df_ttclass['Province,C,254'].value_counts()"
      ],
      "execution_count": null,
      "outputs": [
        {
          "output_type": "execute_result",
          "data": {
            "text/plain": [
              "Jawa Tengah                 215\n",
              "Jawa Barat                  194\n",
              "Jawa Timur                  177\n",
              "Sumatera Utara              138\n",
              "DKI Jakarta                 131\n",
              "Sulawesi Selatan             65\n",
              "DI Yogyakarta                50\n",
              "Banten                       42\n",
              "Bali                         42\n",
              "Sumatera Barat               42\n",
              "Nanggroe Aceh Darussalam     41\n",
              "Riau                         40\n",
              "Sumatera Selatan             40\n",
              "Lampung                      36\n",
              "Kalimantan Timur             34\n",
              "Nusa Tenggara Timur          32\n",
              "Kalimantan Barat             32\n",
              "Kalimantan Selatan           29\n",
              "Sulawesi Utara               29\n",
              "Jambi                        22\n",
              "Sulawesi Tengah              21\n",
              "Maluku                       20\n",
              "Kepulauan Riau               19\n",
              "Sulawesi Tenggara            19\n",
              "Nusa Tenggara Barat          17\n",
              "Papua                        15\n",
              "Bengkulu                     15\n",
              "Kalimantan Tengah            15\n",
              "Maluku Utara                 14\n",
              "Bangka Belitung              11\n",
              "Gorontalo                     8\n",
              "Sulawesi Barat                6\n",
              "Papua Barat                   5\n",
              "Name: Province,C,254, dtype: int64"
            ]
          },
          "metadata": {
            "tags": []
          },
          "execution_count": 34
        }
      ]
    },
    {
      "cell_type": "code",
      "metadata": {
        "id": "-yTrrAMdgmOc"
      },
      "source": [
        "dftt_jakarta = df_ttclass[df_ttclass['Province,C,254'] == 'DKI Jakarta']"
      ],
      "execution_count": null,
      "outputs": []
    },
    {
      "cell_type": "code",
      "metadata": {
        "colab": {
          "base_uri": "https://localhost:8080/"
        },
        "id": "Hdhp692Kajiz",
        "outputId": "08a1cbde-f141-4339-aebc-d189834df842"
      },
      "source": [
        "len(new_df)"
      ],
      "execution_count": null,
      "outputs": [
        {
          "output_type": "execute_result",
          "data": {
            "text/plain": [
              "191"
            ]
          },
          "metadata": {
            "tags": []
          },
          "execution_count": 36
        }
      ]
    },
    {
      "cell_type": "code",
      "metadata": {
        "colab": {
          "base_uri": "https://localhost:8080/"
        },
        "id": "S9QFOee5ar4U",
        "outputId": "0a891281-2265-48de-99a4-8aded7ddf942"
      },
      "source": [
        "len(dftt_jakarta)"
      ],
      "execution_count": null,
      "outputs": [
        {
          "output_type": "execute_result",
          "data": {
            "text/plain": [
              "131"
            ]
          },
          "metadata": {
            "tags": []
          },
          "execution_count": 37
        }
      ]
    },
    {
      "cell_type": "code",
      "metadata": {
        "id": "d9_JhHlBatoa"
      },
      "source": [
        "new_df.to_csv('new_dff.csv')\n",
        "# dftt_jakarta.to_csv('dftt_jakarta.csv')"
      ],
      "execution_count": null,
      "outputs": []
    },
    {
      "cell_type": "code",
      "metadata": {
        "colab": {
          "base_uri": "https://localhost:8080/",
          "height": 419
        },
        "id": "11CO758Cc9YO",
        "outputId": "94ca536e-9da8-42e5-aea1-9f2d66a76d0d"
      },
      "source": [
        "new_df"
      ],
      "execution_count": null,
      "outputs": [
        {
          "output_type": "execute_result",
          "data": {
            "text/html": [
              "<div>\n",
              "<style scoped>\n",
              "    .dataframe tbody tr th:only-of-type {\n",
              "        vertical-align: middle;\n",
              "    }\n",
              "\n",
              "    .dataframe tbody tr th {\n",
              "        vertical-align: top;\n",
              "    }\n",
              "\n",
              "    .dataframe thead th {\n",
              "        text-align: right;\n",
              "    }\n",
              "</style>\n",
              "<table border=\"1\" class=\"dataframe\">\n",
              "  <thead>\n",
              "    <tr style=\"text-align: right;\">\n",
              "      <th></th>\n",
              "      <th>kode_rs</th>\n",
              "      <th>akreditasi</th>\n",
              "      <th>nama_rs</th>\n",
              "      <th>provinsi</th>\n",
              "      <th>jenis</th>\n",
              "      <th>kelas</th>\n",
              "      <th>pemilik</th>\n",
              "      <th>total_tempat_tidur</th>\n",
              "      <th>rujukan</th>\n",
              "    </tr>\n",
              "  </thead>\n",
              "  <tbody>\n",
              "    <tr>\n",
              "      <th>0</th>\n",
              "      <td>3172748</td>\n",
              "      <td>Tingkat Paripurna</td>\n",
              "      <td>RS Ibu dan Anak Bunda Aliyah</td>\n",
              "      <td>DKI JAKARTA</td>\n",
              "      <td>RSIA</td>\n",
              "      <td>B</td>\n",
              "      <td>Perusahaan</td>\n",
              "      <td>66</td>\n",
              "      <td>NaN</td>\n",
              "    </tr>\n",
              "    <tr>\n",
              "      <th>12</th>\n",
              "      <td>3171803</td>\n",
              "      <td>Tingkat Madya</td>\n",
              "      <td>RS Umum Daerah Kebayoran Lama</td>\n",
              "      <td>DKI JAKARTA</td>\n",
              "      <td>RSU</td>\n",
              "      <td>D</td>\n",
              "      <td>Pemprop</td>\n",
              "      <td>35</td>\n",
              "      <td>NaN</td>\n",
              "    </tr>\n",
              "    <tr>\n",
              "      <th>13</th>\n",
              "      <td>3172771</td>\n",
              "      <td>Tingkat Utama</td>\n",
              "      <td>RSUD CIPAYUNG</td>\n",
              "      <td>DKI JAKARTA</td>\n",
              "      <td>RSU</td>\n",
              "      <td>D</td>\n",
              "      <td>Pemprop</td>\n",
              "      <td>59</td>\n",
              "      <td>NaN</td>\n",
              "    </tr>\n",
              "    <tr>\n",
              "      <th>70</th>\n",
              "      <td>3171802</td>\n",
              "      <td>Lulus Perdana</td>\n",
              "      <td>RS Khusus Bedah Halimun</td>\n",
              "      <td>DKI JAKARTA</td>\n",
              "      <td>RSK BEDAH</td>\n",
              "      <td>C</td>\n",
              "      <td>Perusahaan</td>\n",
              "      <td>18</td>\n",
              "      <td>NaN</td>\n",
              "    </tr>\n",
              "    <tr>\n",
              "      <th>72</th>\n",
              "      <td>3173707</td>\n",
              "      <td>Tingkat Paripurna</td>\n",
              "      <td>RS Gigi Dan Mulut YARSI</td>\n",
              "      <td>DKI JAKARTA</td>\n",
              "      <td>RSK GM</td>\n",
              "      <td>B</td>\n",
              "      <td>SWASTA/ LAINNYA</td>\n",
              "      <td>3</td>\n",
              "      <td>NaN</td>\n",
              "    </tr>\n",
              "    <tr>\n",
              "      <th>...</th>\n",
              "      <td>...</td>\n",
              "      <td>...</td>\n",
              "      <td>...</td>\n",
              "      <td>...</td>\n",
              "      <td>...</td>\n",
              "      <td>...</td>\n",
              "      <td>...</td>\n",
              "      <td>...</td>\n",
              "      <td>...</td>\n",
              "    </tr>\n",
              "    <tr>\n",
              "      <th>2916</th>\n",
              "      <td>3173612</td>\n",
              "      <td>NaN</td>\n",
              "      <td>RS Khusus THT Prof Nizar</td>\n",
              "      <td>DKI JAKARTA</td>\n",
              "      <td>RSK THT-KL</td>\n",
              "      <td>B</td>\n",
              "      <td>SWASTA/ LAINNYA</td>\n",
              "      <td>9</td>\n",
              "      <td>NaN</td>\n",
              "    </tr>\n",
              "    <tr>\n",
              "      <th>2917</th>\n",
              "      <td>3173532</td>\n",
              "      <td>NaN</td>\n",
              "      <td>RS Khusus THT Bedah KL Proklamasi</td>\n",
              "      <td>DKI JAKARTA</td>\n",
              "      <td>RSK THT-KL</td>\n",
              "      <td>B</td>\n",
              "      <td>SWASTA/ LAINNYA</td>\n",
              "      <td>26</td>\n",
              "      <td>NaN</td>\n",
              "    </tr>\n",
              "    <tr>\n",
              "      <th>2923</th>\n",
              "      <td>3173671</td>\n",
              "      <td>NaN</td>\n",
              "      <td>RS Gigi dan Mulut FKG Univ.Indonesia</td>\n",
              "      <td>DKI JAKARTA</td>\n",
              "      <td>RSK GM</td>\n",
              "      <td>A</td>\n",
              "      <td>Kementerian Lain</td>\n",
              "      <td>0</td>\n",
              "      <td>NaN</td>\n",
              "    </tr>\n",
              "    <tr>\n",
              "      <th>2924</th>\n",
              "      <td>3173014</td>\n",
              "      <td>NaN</td>\n",
              "      <td>RSUPN Dr. Cipto Mangunkusumo</td>\n",
              "      <td>DKI JAKARTA</td>\n",
              "      <td>RSU</td>\n",
              "      <td>A</td>\n",
              "      <td>Kemkes</td>\n",
              "      <td>747</td>\n",
              "      <td>Rujukan Nasional</td>\n",
              "    </tr>\n",
              "    <tr>\n",
              "      <th>2925</th>\n",
              "      <td>3171012</td>\n",
              "      <td>NaN</td>\n",
              "      <td>RSUP Fatmawati</td>\n",
              "      <td>DKI JAKARTA</td>\n",
              "      <td>RSU</td>\n",
              "      <td>A</td>\n",
              "      <td>Kemkes</td>\n",
              "      <td>223</td>\n",
              "      <td>NaN</td>\n",
              "    </tr>\n",
              "  </tbody>\n",
              "</table>\n",
              "<p>191 rows × 9 columns</p>\n",
              "</div>"
            ],
            "text/plain": [
              "      kode_rs         akreditasi  ... total_tempat_tidur           rujukan\n",
              "0     3172748  Tingkat Paripurna  ...                 66               NaN\n",
              "12    3171803      Tingkat Madya  ...                 35               NaN\n",
              "13    3172771      Tingkat Utama  ...                 59               NaN\n",
              "70    3171802      Lulus Perdana  ...                 18               NaN\n",
              "72    3173707  Tingkat Paripurna  ...                  3               NaN\n",
              "...       ...                ...  ...                ...               ...\n",
              "2916  3173612                NaN  ...                  9               NaN\n",
              "2917  3173532                NaN  ...                 26               NaN\n",
              "2923  3173671                NaN  ...                  0               NaN\n",
              "2924  3173014                NaN  ...                747  Rujukan Nasional\n",
              "2925  3171012                NaN  ...                223               NaN\n",
              "\n",
              "[191 rows x 9 columns]"
            ]
          },
          "metadata": {
            "tags": []
          },
          "execution_count": 39
        }
      ]
    },
    {
      "cell_type": "code",
      "metadata": {
        "colab": {
          "base_uri": "https://localhost:8080/"
        },
        "id": "Vsmj1JhKjArV",
        "outputId": "c8420b99-279f-46cf-ab55-38f60851d6e6"
      },
      "source": [
        "dftt_jakarta.rename(columns={'Name,C,254':'nama_rs',\n",
        "                   'Address,C,254':'alamat',\n",
        "                   'Type,C,254':'tipe',\n",
        "                   'Class,C,254':'kelas',\n",
        "                   'District,C,254':'district',\n",
        "                   'Province,C,254':'provinsi',\n",
        "                   'Lat,N,24,15':'lat',\n",
        "                   'Long,N,24,15':'long',\n",
        "                   'Hospital,C,254':'tipe_rs'}, inplace=True)"
      ],
      "execution_count": null,
      "outputs": [
        {
          "output_type": "stream",
          "text": [
            "/usr/local/lib/python3.7/dist-packages/pandas/core/frame.py:4308: SettingWithCopyWarning: \n",
            "A value is trying to be set on a copy of a slice from a DataFrame\n",
            "\n",
            "See the caveats in the documentation: https://pandas.pydata.org/pandas-docs/stable/user_guide/indexing.html#returning-a-view-versus-a-copy\n",
            "  errors=errors,\n"
          ],
          "name": "stderr"
        }
      ]
    },
    {
      "cell_type": "code",
      "metadata": {
        "colab": {
          "base_uri": "https://localhost:8080/",
          "height": 419
        },
        "id": "b3M-qkHCGcxc",
        "outputId": "2b8dc4bc-07b9-464b-b802-05a8cda11c7a"
      },
      "source": [
        "dftt_jakarta"
      ],
      "execution_count": null,
      "outputs": [
        {
          "output_type": "execute_result",
          "data": {
            "text/html": [
              "<div>\n",
              "<style scoped>\n",
              "    .dataframe tbody tr th:only-of-type {\n",
              "        vertical-align: middle;\n",
              "    }\n",
              "\n",
              "    .dataframe tbody tr th {\n",
              "        vertical-align: top;\n",
              "    }\n",
              "\n",
              "    .dataframe thead th {\n",
              "        text-align: right;\n",
              "    }\n",
              "</style>\n",
              "<table border=\"1\" class=\"dataframe\">\n",
              "  <thead>\n",
              "    <tr style=\"text-align: right;\">\n",
              "      <th></th>\n",
              "      <th>nama_rs</th>\n",
              "      <th>alamat</th>\n",
              "      <th>tipe</th>\n",
              "      <th>kelas</th>\n",
              "      <th>district</th>\n",
              "      <th>provinsi</th>\n",
              "      <th>lat</th>\n",
              "      <th>long</th>\n",
              "      <th>tipe_rs</th>\n",
              "    </tr>\n",
              "  </thead>\n",
              "  <tbody>\n",
              "    <tr>\n",
              "      <th>11</th>\n",
              "      <td>RSUP Persahabatan</td>\n",
              "      <td>Jl. Raya Persahabatan,Jaktim</td>\n",
              "      <td>A</td>\n",
              "      <td>B</td>\n",
              "      <td>Kota Jakarta Timur</td>\n",
              "      <td>DKI Jakarta</td>\n",
              "      <td>-6.204058</td>\n",
              "      <td>106.884772</td>\n",
              "      <td>rs</td>\n",
              "    </tr>\n",
              "    <tr>\n",
              "      <th>12</th>\n",
              "      <td>RS Pelabuhan Tg.Priok</td>\n",
              "      <td>Jl. Kramat Jaya Tg Priok Jakut</td>\n",
              "      <td>A</td>\n",
              "      <td>NaN</td>\n",
              "      <td>Kota Jakarta Utara</td>\n",
              "      <td>DKI Jakarta</td>\n",
              "      <td>-6.125000</td>\n",
              "      <td>106.918000</td>\n",
              "      <td>rs</td>\n",
              "    </tr>\n",
              "    <tr>\n",
              "      <th>13</th>\n",
              "      <td>RS Manuela</td>\n",
              "      <td>Jl. Mangga Besar VIII/23 Jakbar</td>\n",
              "      <td>A</td>\n",
              "      <td>C</td>\n",
              "      <td>Kota Jakarta Barat</td>\n",
              "      <td>DKI Jakarta</td>\n",
              "      <td>-6.151200</td>\n",
              "      <td>106.809386</td>\n",
              "      <td>rs</td>\n",
              "    </tr>\n",
              "    <tr>\n",
              "      <th>14</th>\n",
              "      <td>RSUP Fatmawati</td>\n",
              "      <td>Jl. RS Fatmawati Cilandak,Jaksel</td>\n",
              "      <td>A</td>\n",
              "      <td>A</td>\n",
              "      <td>Kota Jakarta Selatan</td>\n",
              "      <td>DKI Jakarta</td>\n",
              "      <td>-6.294844</td>\n",
              "      <td>106.795564</td>\n",
              "      <td>rs</td>\n",
              "    </tr>\n",
              "    <tr>\n",
              "      <th>15</th>\n",
              "      <td>RSUD Budhi Asih</td>\n",
              "      <td>Jl. Dewi Sartika, Cawang III/ 200,Jakarta Timur</td>\n",
              "      <td>A</td>\n",
              "      <td>B</td>\n",
              "      <td>Kota Jakarta Timur</td>\n",
              "      <td>DKI Jakarta</td>\n",
              "      <td>-6.256169</td>\n",
              "      <td>106.863364</td>\n",
              "      <td>rs</td>\n",
              "    </tr>\n",
              "    <tr>\n",
              "      <th>...</th>\n",
              "      <td>...</td>\n",
              "      <td>...</td>\n",
              "      <td>...</td>\n",
              "      <td>...</td>\n",
              "      <td>...</td>\n",
              "      <td>...</td>\n",
              "      <td>...</td>\n",
              "      <td>...</td>\n",
              "      <td>...</td>\n",
              "    </tr>\n",
              "    <tr>\n",
              "      <th>137</th>\n",
              "      <td>RSIA Family</td>\n",
              "      <td>Jl. Pluit Mas I Blok A Jakut</td>\n",
              "      <td>O</td>\n",
              "      <td>C</td>\n",
              "      <td>Jakarta Utara</td>\n",
              "      <td>DKI Jakarta</td>\n",
              "      <td>-6.133792</td>\n",
              "      <td>106.790572</td>\n",
              "      <td>rs</td>\n",
              "    </tr>\n",
              "    <tr>\n",
              "      <th>138</th>\n",
              "      <td>RSIA Puri Medika</td>\n",
              "      <td>Jl. Sungai Bambu 5A Tanjung Priok</td>\n",
              "      <td>O</td>\n",
              "      <td>NaN</td>\n",
              "      <td>Jakarta Utara</td>\n",
              "      <td>DKI Jakarta</td>\n",
              "      <td>-6.129944</td>\n",
              "      <td>106.885417</td>\n",
              "      <td>rs</td>\n",
              "    </tr>\n",
              "    <tr>\n",
              "      <th>139</th>\n",
              "      <td>RS Port Medical Center</td>\n",
              "      <td>Jl. Enggano No.10 Tanjung Priok, Jakarta Utara</td>\n",
              "      <td>A</td>\n",
              "      <td>NaN</td>\n",
              "      <td>Jakarta Utara</td>\n",
              "      <td>DKI Jakarta</td>\n",
              "      <td>-6.110758</td>\n",
              "      <td>106.887861</td>\n",
              "      <td>rs</td>\n",
              "    </tr>\n",
              "    <tr>\n",
              "      <th>140</th>\n",
              "      <td>RS Gading Pluit</td>\n",
              "      <td>Jl. Boulevard Timur Raya Pegangsaan Dua,Kelapa...</td>\n",
              "      <td>A</td>\n",
              "      <td>NaN</td>\n",
              "      <td>Jakarta Utara</td>\n",
              "      <td>DKI Jakarta</td>\n",
              "      <td>-6.166378</td>\n",
              "      <td>106.916922</td>\n",
              "      <td>rs</td>\n",
              "    </tr>\n",
              "    <tr>\n",
              "      <th>143</th>\n",
              "      <td>RS Mulyasari</td>\n",
              "      <td>Jl. Raya Plumpung Semper No.19 RT.006/RW.015, ...</td>\n",
              "      <td>A</td>\n",
              "      <td>0</td>\n",
              "      <td>JAKARTA UTARA</td>\n",
              "      <td>DKI Jakarta</td>\n",
              "      <td>-6.129400</td>\n",
              "      <td>106.917319</td>\n",
              "      <td>rs</td>\n",
              "    </tr>\n",
              "  </tbody>\n",
              "</table>\n",
              "<p>131 rows × 9 columns</p>\n",
              "</div>"
            ],
            "text/plain": [
              "                    nama_rs  ... tipe_rs\n",
              "11        RSUP Persahabatan  ...      rs\n",
              "12    RS Pelabuhan Tg.Priok  ...      rs\n",
              "13               RS Manuela  ...      rs\n",
              "14           RSUP Fatmawati  ...      rs\n",
              "15          RSUD Budhi Asih  ...      rs\n",
              "..                      ...  ...     ...\n",
              "137             RSIA Family  ...      rs\n",
              "138        RSIA Puri Medika  ...      rs\n",
              "139  RS Port Medical Center  ...      rs\n",
              "140         RS Gading Pluit  ...      rs\n",
              "143            RS Mulyasari  ...      rs\n",
              "\n",
              "[131 rows x 9 columns]"
            ]
          },
          "metadata": {
            "tags": []
          },
          "execution_count": 41
        }
      ]
    },
    {
      "cell_type": "code",
      "metadata": {
        "colab": {
          "base_uri": "https://localhost:8080/"
        },
        "id": "VyaY5TJoHJ37",
        "outputId": "b10e1746-463e-4552-cba9-09df558bca5d"
      },
      "source": [
        "dftt_jakarta.drop(['tipe', 'kelas', 'provinsi', 'tipe_rs'], axis=1, inplace=True)"
      ],
      "execution_count": null,
      "outputs": [
        {
          "output_type": "stream",
          "text": [
            "/usr/local/lib/python3.7/dist-packages/pandas/core/frame.py:4174: SettingWithCopyWarning: \n",
            "A value is trying to be set on a copy of a slice from a DataFrame\n",
            "\n",
            "See the caveats in the documentation: https://pandas.pydata.org/pandas-docs/stable/user_guide/indexing.html#returning-a-view-versus-a-copy\n",
            "  errors=errors,\n"
          ],
          "name": "stderr"
        }
      ]
    },
    {
      "cell_type": "code",
      "metadata": {
        "colab": {
          "base_uri": "https://localhost:8080/",
          "height": 419
        },
        "id": "Ue4lfQdjW_55",
        "outputId": "69bb9636-4913-4d8d-8db6-7d49df26d120"
      },
      "source": [
        "dftt_jakarta"
      ],
      "execution_count": null,
      "outputs": [
        {
          "output_type": "execute_result",
          "data": {
            "text/html": [
              "<div>\n",
              "<style scoped>\n",
              "    .dataframe tbody tr th:only-of-type {\n",
              "        vertical-align: middle;\n",
              "    }\n",
              "\n",
              "    .dataframe tbody tr th {\n",
              "        vertical-align: top;\n",
              "    }\n",
              "\n",
              "    .dataframe thead th {\n",
              "        text-align: right;\n",
              "    }\n",
              "</style>\n",
              "<table border=\"1\" class=\"dataframe\">\n",
              "  <thead>\n",
              "    <tr style=\"text-align: right;\">\n",
              "      <th></th>\n",
              "      <th>nama_rs</th>\n",
              "      <th>alamat</th>\n",
              "      <th>district</th>\n",
              "      <th>lat</th>\n",
              "      <th>long</th>\n",
              "    </tr>\n",
              "  </thead>\n",
              "  <tbody>\n",
              "    <tr>\n",
              "      <th>11</th>\n",
              "      <td>RSUP Persahabatan</td>\n",
              "      <td>Jl. Raya Persahabatan,Jaktim</td>\n",
              "      <td>Kota Jakarta Timur</td>\n",
              "      <td>-6.204058</td>\n",
              "      <td>106.884772</td>\n",
              "    </tr>\n",
              "    <tr>\n",
              "      <th>12</th>\n",
              "      <td>RS Pelabuhan Tg.Priok</td>\n",
              "      <td>Jl. Kramat Jaya Tg Priok Jakut</td>\n",
              "      <td>Kota Jakarta Utara</td>\n",
              "      <td>-6.125000</td>\n",
              "      <td>106.918000</td>\n",
              "    </tr>\n",
              "    <tr>\n",
              "      <th>13</th>\n",
              "      <td>RS Manuela</td>\n",
              "      <td>Jl. Mangga Besar VIII/23 Jakbar</td>\n",
              "      <td>Kota Jakarta Barat</td>\n",
              "      <td>-6.151200</td>\n",
              "      <td>106.809386</td>\n",
              "    </tr>\n",
              "    <tr>\n",
              "      <th>14</th>\n",
              "      <td>RSUP Fatmawati</td>\n",
              "      <td>Jl. RS Fatmawati Cilandak,Jaksel</td>\n",
              "      <td>Kota Jakarta Selatan</td>\n",
              "      <td>-6.294844</td>\n",
              "      <td>106.795564</td>\n",
              "    </tr>\n",
              "    <tr>\n",
              "      <th>15</th>\n",
              "      <td>RSUD Budhi Asih</td>\n",
              "      <td>Jl. Dewi Sartika, Cawang III/ 200,Jakarta Timur</td>\n",
              "      <td>Kota Jakarta Timur</td>\n",
              "      <td>-6.256169</td>\n",
              "      <td>106.863364</td>\n",
              "    </tr>\n",
              "    <tr>\n",
              "      <th>...</th>\n",
              "      <td>...</td>\n",
              "      <td>...</td>\n",
              "      <td>...</td>\n",
              "      <td>...</td>\n",
              "      <td>...</td>\n",
              "    </tr>\n",
              "    <tr>\n",
              "      <th>137</th>\n",
              "      <td>RSIA Family</td>\n",
              "      <td>Jl. Pluit Mas I Blok A Jakut</td>\n",
              "      <td>Jakarta Utara</td>\n",
              "      <td>-6.133792</td>\n",
              "      <td>106.790572</td>\n",
              "    </tr>\n",
              "    <tr>\n",
              "      <th>138</th>\n",
              "      <td>RSIA Puri Medika</td>\n",
              "      <td>Jl. Sungai Bambu 5A Tanjung Priok</td>\n",
              "      <td>Jakarta Utara</td>\n",
              "      <td>-6.129944</td>\n",
              "      <td>106.885417</td>\n",
              "    </tr>\n",
              "    <tr>\n",
              "      <th>139</th>\n",
              "      <td>RS Port Medical Center</td>\n",
              "      <td>Jl. Enggano No.10 Tanjung Priok, Jakarta Utara</td>\n",
              "      <td>Jakarta Utara</td>\n",
              "      <td>-6.110758</td>\n",
              "      <td>106.887861</td>\n",
              "    </tr>\n",
              "    <tr>\n",
              "      <th>140</th>\n",
              "      <td>RS Gading Pluit</td>\n",
              "      <td>Jl. Boulevard Timur Raya Pegangsaan Dua,Kelapa...</td>\n",
              "      <td>Jakarta Utara</td>\n",
              "      <td>-6.166378</td>\n",
              "      <td>106.916922</td>\n",
              "    </tr>\n",
              "    <tr>\n",
              "      <th>143</th>\n",
              "      <td>RS Mulyasari</td>\n",
              "      <td>Jl. Raya Plumpung Semper No.19 RT.006/RW.015, ...</td>\n",
              "      <td>JAKARTA UTARA</td>\n",
              "      <td>-6.129400</td>\n",
              "      <td>106.917319</td>\n",
              "    </tr>\n",
              "  </tbody>\n",
              "</table>\n",
              "<p>131 rows × 5 columns</p>\n",
              "</div>"
            ],
            "text/plain": [
              "                    nama_rs  ...        long\n",
              "11        RSUP Persahabatan  ...  106.884772\n",
              "12    RS Pelabuhan Tg.Priok  ...  106.918000\n",
              "13               RS Manuela  ...  106.809386\n",
              "14           RSUP Fatmawati  ...  106.795564\n",
              "15          RSUD Budhi Asih  ...  106.863364\n",
              "..                      ...  ...         ...\n",
              "137             RSIA Family  ...  106.790572\n",
              "138        RSIA Puri Medika  ...  106.885417\n",
              "139  RS Port Medical Center  ...  106.887861\n",
              "140         RS Gading Pluit  ...  106.916922\n",
              "143            RS Mulyasari  ...  106.917319\n",
              "\n",
              "[131 rows x 5 columns]"
            ]
          },
          "metadata": {
            "tags": []
          },
          "execution_count": 47
        }
      ]
    },
    {
      "cell_type": "code",
      "metadata": {
        "id": "Crp2dQY2XgYZ"
      },
      "source": [
        "new_united = pd.merge(new_df, dftt_jakarta, how=\"outer\", on=[\"nama_rs\"])"
      ],
      "execution_count": null,
      "outputs": []
    },
    {
      "cell_type": "code",
      "metadata": {
        "id": "bJ17YfMoYSKw"
      },
      "source": [
        "df1 = pd.read_csv('dftt_jakarta.csv')\n",
        "df2 = pd.read_csv('new_df.csv')"
      ],
      "execution_count": null,
      "outputs": []
    },
    {
      "cell_type": "code",
      "metadata": {
        "id": "jt8oFZZZiUnK"
      },
      "source": [
        "df1.rename(columns={'Name,C,254':'nama_rs',\n",
        "                   'Address,C,254':'alamat',\n",
        "                   'Type,C,254':'tipe',\n",
        "                   'Class,C,254':'kelas',\n",
        "                   'District,C,254':'district',\n",
        "                   'Province,C,254':'provinsi',\n",
        "                   'Lat,N,24,15':'lat',\n",
        "                   'Long,N,24,15':'long',\n",
        "                   'Hospital,C,254':'tipe_rs'}, inplace=True)"
      ],
      "execution_count": null,
      "outputs": []
    },
    {
      "cell_type": "code",
      "metadata": {
        "id": "afuaL6SAiVfi"
      },
      "source": [
        "df1.drop(['tipe', 'kelas', 'provinsi', 'tipe_rs', 'Unnamed: 0'], axis=1, inplace=True)"
      ],
      "execution_count": null,
      "outputs": []
    },
    {
      "cell_type": "code",
      "metadata": {
        "id": "ydlF5ueziuSn"
      },
      "source": [
        "df1['nama_rs'] = df1['nama_rs'].str.lower()"
      ],
      "execution_count": null,
      "outputs": []
    },
    {
      "cell_type": "code",
      "metadata": {
        "colab": {
          "base_uri": "https://localhost:8080/",
          "height": 204
        },
        "id": "EtwSWCoZifxf",
        "outputId": "4207ae91-a6c5-45be-e719-0a781f750b9b"
      },
      "source": [
        "df1.head()"
      ],
      "execution_count": null,
      "outputs": [
        {
          "output_type": "execute_result",
          "data": {
            "text/html": [
              "<div>\n",
              "<style scoped>\n",
              "    .dataframe tbody tr th:only-of-type {\n",
              "        vertical-align: middle;\n",
              "    }\n",
              "\n",
              "    .dataframe tbody tr th {\n",
              "        vertical-align: top;\n",
              "    }\n",
              "\n",
              "    .dataframe thead th {\n",
              "        text-align: right;\n",
              "    }\n",
              "</style>\n",
              "<table border=\"1\" class=\"dataframe\">\n",
              "  <thead>\n",
              "    <tr style=\"text-align: right;\">\n",
              "      <th></th>\n",
              "      <th>nama_rs</th>\n",
              "      <th>alamat</th>\n",
              "      <th>district</th>\n",
              "      <th>lat</th>\n",
              "      <th>long</th>\n",
              "    </tr>\n",
              "  </thead>\n",
              "  <tbody>\n",
              "    <tr>\n",
              "      <th>0</th>\n",
              "      <td>persahabatan</td>\n",
              "      <td>Jl. Raya Persahabatan,Jaktim</td>\n",
              "      <td>Kota Jakarta Timur</td>\n",
              "      <td>-6.204058</td>\n",
              "      <td>106.884772</td>\n",
              "    </tr>\n",
              "    <tr>\n",
              "      <th>1</th>\n",
              "      <td>pelabuhan tg.priok</td>\n",
              "      <td>Jl. Kramat Jaya Tg Priok Jakut</td>\n",
              "      <td>Kota Jakarta Utara</td>\n",
              "      <td>-6.125000</td>\n",
              "      <td>106.918000</td>\n",
              "    </tr>\n",
              "    <tr>\n",
              "      <th>2</th>\n",
              "      <td>manuela</td>\n",
              "      <td>Jl. Mangga Besar VIII/23 Jakbar</td>\n",
              "      <td>Kota Jakarta Barat</td>\n",
              "      <td>-6.151200</td>\n",
              "      <td>106.809386</td>\n",
              "    </tr>\n",
              "    <tr>\n",
              "      <th>3</th>\n",
              "      <td>fatmawati</td>\n",
              "      <td>Jl. Fatmawati Cilandak,Jaksel</td>\n",
              "      <td>Kota Jakarta Selatan</td>\n",
              "      <td>-6.294844</td>\n",
              "      <td>106.795564</td>\n",
              "    </tr>\n",
              "    <tr>\n",
              "      <th>4</th>\n",
              "      <td>budhi asih</td>\n",
              "      <td>Jl. Dewi Sartika, Cawang III/ 200,Jakarta Timur</td>\n",
              "      <td>Kota Jakarta Timur</td>\n",
              "      <td>-6.256169</td>\n",
              "      <td>106.863364</td>\n",
              "    </tr>\n",
              "  </tbody>\n",
              "</table>\n",
              "</div>"
            ],
            "text/plain": [
              "              nama_rs  ...        long\n",
              "0        persahabatan  ...  106.884772\n",
              "1  pelabuhan tg.priok  ...  106.918000\n",
              "2             manuela  ...  106.809386\n",
              "3           fatmawati  ...  106.795564\n",
              "4          budhi asih  ...  106.863364\n",
              "\n",
              "[5 rows x 5 columns]"
            ]
          },
          "metadata": {
            "tags": []
          },
          "execution_count": 89
        }
      ]
    },
    {
      "cell_type": "code",
      "metadata": {
        "id": "wK_W4S8Pio7e"
      },
      "source": [
        "df2.drop(['Unnamed: 0'], axis=1, inplace=True)"
      ],
      "execution_count": null,
      "outputs": []
    },
    {
      "cell_type": "code",
      "metadata": {
        "id": "j2KRnKc5irCW"
      },
      "source": [
        "df2['nama_rs'] = df2['nama_rs'].str.lower()"
      ],
      "execution_count": null,
      "outputs": []
    },
    {
      "cell_type": "code",
      "metadata": {
        "id": "dyL5AsMfjE_Q"
      },
      "source": [
        "new_united = pd.merge(df2, df1, how=\"outer\", on=[\"nama_rs\"])"
      ],
      "execution_count": null,
      "outputs": []
    },
    {
      "cell_type": "code",
      "metadata": {
        "id": "9dKoo1XLjPHu"
      },
      "source": [
        "new_united.to_csv('coba.csv')"
      ],
      "execution_count": null,
      "outputs": []
    },
    {
      "cell_type": "code",
      "metadata": {
        "id": "ST0rApAxjRoe"
      },
      "source": [
        "fixed_df = pd.read_csv('gdrive/MyDrive/proyekBangkit/fixed.csv')"
      ],
      "execution_count": null,
      "outputs": []
    },
    {
      "cell_type": "code",
      "metadata": {
        "colab": {
          "base_uri": "https://localhost:8080/",
          "height": 428
        },
        "id": "rRGbu_lFs9yA",
        "outputId": "048f56f6-875e-4efd-aa3f-34d7576b8ec7"
      },
      "source": [
        "fixed_df.head()"
      ],
      "execution_count": null,
      "outputs": [
        {
          "output_type": "execute_result",
          "data": {
            "text/html": [
              "<div>\n",
              "<style scoped>\n",
              "    .dataframe tbody tr th:only-of-type {\n",
              "        vertical-align: middle;\n",
              "    }\n",
              "\n",
              "    .dataframe tbody tr th {\n",
              "        vertical-align: top;\n",
              "    }\n",
              "\n",
              "    .dataframe thead th {\n",
              "        text-align: right;\n",
              "    }\n",
              "</style>\n",
              "<table border=\"1\" class=\"dataframe\">\n",
              "  <thead>\n",
              "    <tr style=\"text-align: right;\">\n",
              "      <th></th>\n",
              "      <th>kode_rs</th>\n",
              "      <th>akreditasi</th>\n",
              "      <th>nama_rs</th>\n",
              "      <th>provinsi</th>\n",
              "      <th>jenis</th>\n",
              "      <th>kelas</th>\n",
              "      <th>pemilik</th>\n",
              "      <th>total_tempat_tidur</th>\n",
              "      <th>rujukan</th>\n",
              "      <th>alamat</th>\n",
              "      <th>district</th>\n",
              "      <th>lat</th>\n",
              "      <th>long</th>\n",
              "    </tr>\n",
              "  </thead>\n",
              "  <tbody>\n",
              "    <tr>\n",
              "      <th>0</th>\n",
              "      <td>3171795</td>\n",
              "      <td>Tingkat Utama</td>\n",
              "      <td>RS Umum Daerah Kemayoran</td>\n",
              "      <td>DKI JAKARTA</td>\n",
              "      <td>RSU</td>\n",
              "      <td>B</td>\n",
              "      <td>Pemprop</td>\n",
              "      <td>390</td>\n",
              "      <td>NaN</td>\n",
              "      <td>Jl. Raya Ragunan P 7,Jaksel</td>\n",
              "      <td>Jakarta Selatan</td>\n",
              "      <td>-6.286483</td>\n",
              "      <td>106.832919</td>\n",
              "    </tr>\n",
              "    <tr>\n",
              "      <th>1</th>\n",
              "      <td>3172755</td>\n",
              "      <td>Tingkat Paripurna</td>\n",
              "      <td>RS Umum Bunda Jakarta</td>\n",
              "      <td>DKI JAKARTA</td>\n",
              "      <td>JANTUNG</td>\n",
              "      <td>B</td>\n",
              "      <td>Perusahaan</td>\n",
              "      <td>60</td>\n",
              "      <td>NaN</td>\n",
              "      <td>Jl. Jend.Sudirman Kav.49,Jaksel</td>\n",
              "      <td>Jakarta Selatan</td>\n",
              "      <td>-6.227203</td>\n",
              "      <td>106.802183</td>\n",
              "    </tr>\n",
              "    <tr>\n",
              "      <th>2</th>\n",
              "      <td>3171045</td>\n",
              "      <td>Tingkat Paripurna</td>\n",
              "      <td>RS Umum Siloam TB Simatupang</td>\n",
              "      <td>DKI JAKARTA</td>\n",
              "      <td>RSU</td>\n",
              "      <td>B</td>\n",
              "      <td>Organisasi Sosial</td>\n",
              "      <td>85</td>\n",
              "      <td>NaN</td>\n",
              "      <td>Jl. Jend.Sudirman Kav.49,Jaksel</td>\n",
              "      <td>Jakarta Selatan</td>\n",
              "      <td>-6.227203</td>\n",
              "      <td>106.802183</td>\n",
              "    </tr>\n",
              "    <tr>\n",
              "      <th>3</th>\n",
              "      <td>3101002</td>\n",
              "      <td>Lulus Perdana</td>\n",
              "      <td>RS Umum Yadika</td>\n",
              "      <td>DKI JAKARTA</td>\n",
              "      <td>RSU</td>\n",
              "      <td>D</td>\n",
              "      <td>Pemprop</td>\n",
              "      <td>10</td>\n",
              "      <td>NaN</td>\n",
              "      <td>Jl. P.Revolusi No.47 Pondok Bambu Jaktim</td>\n",
              "      <td>Jakarta Timur</td>\n",
              "      <td>-6.255228</td>\n",
              "      <td>106.777925</td>\n",
              "    </tr>\n",
              "    <tr>\n",
              "      <th>4</th>\n",
              "      <td>3171784</td>\n",
              "      <td>Tingkat Madya</td>\n",
              "      <td>RS Ibu dan Anak Kemang Medical Care</td>\n",
              "      <td>DKI JAKARTA</td>\n",
              "      <td>RSU</td>\n",
              "      <td>C</td>\n",
              "      <td>Perusahaan</td>\n",
              "      <td>43</td>\n",
              "      <td>NaN</td>\n",
              "      <td>Jl. P.Revolusi No.47 Pondok Bambu Jaktim</td>\n",
              "      <td>Jakarta Timur</td>\n",
              "      <td>-6.255228</td>\n",
              "      <td>106.777925</td>\n",
              "    </tr>\n",
              "  </tbody>\n",
              "</table>\n",
              "</div>"
            ],
            "text/plain": [
              "   kode_rs         akreditasi  ...       lat        long\n",
              "0  3171795      Tingkat Utama  ... -6.286483  106.832919\n",
              "1  3172755  Tingkat Paripurna  ... -6.227203  106.802183\n",
              "2  3171045  Tingkat Paripurna  ... -6.227203  106.802183\n",
              "3  3101002      Lulus Perdana  ... -6.255228  106.777925\n",
              "4  3171784      Tingkat Madya  ... -6.255228  106.777925\n",
              "\n",
              "[5 rows x 13 columns]"
            ]
          },
          "metadata": {
            "tags": []
          },
          "execution_count": 105
        }
      ]
    },
    {
      "cell_type": "code",
      "metadata": {
        "id": "ZQgW1PKBtAsS"
      },
      "source": [
        "fixed_df.to_json('test.json', orient='index')"
      ],
      "execution_count": null,
      "outputs": []
    },
    {
      "cell_type": "code",
      "metadata": {
        "colab": {
          "base_uri": "https://localhost:8080/",
          "height": 394
        },
        "id": "9WEXC2s5tVEe",
        "outputId": "5bafe558-27ec-4233-b40c-506ac97d7efd"
      },
      "source": [
        "sns.set_theme(style=\"darkgrid\")\n",
        "plt.figure(figsize=(10, 6))\n",
        "ax = sns.countplot(x=\"akreditasi\", data=fixed_df, order = fixed_df['akreditasi'].value_counts().index)"
      ],
      "execution_count": null,
      "outputs": [
        {
          "output_type": "display_data",
          "data": {
            "image/png": "[encoded data removed]",
            "text/plain": [
              "<Figure size 720x432 with 1 Axes>"
            ]
          },
          "metadata": {
            "tags": []
          }
        }
      ]
    },
    {
      "cell_type": "code",
      "metadata": {
        "colab": {
          "base_uri": "https://localhost:8080/"
        },
        "id": "pMDbH1Ff3st1",
        "outputId": "c9e4adac-302e-435e-9883-7368dc483819"
      },
      "source": [
        "fixed_df['akreditasi'].value_counts(dropna=False)"
      ],
      "execution_count": null,
      "outputs": [
        {
          "output_type": "execute_result",
          "data": {
            "text/plain": [
              "Tingkat Paripurna    61\n",
              "NaN                  16\n",
              "Tingkat Utama        15\n",
              "Tingkat Madya        14\n",
              "Lulus Perdana         9\n",
              "Tingkat Dasar         3\n",
              "Name: akreditasi, dtype: int64"
            ]
          },
          "metadata": {
            "tags": []
          },
          "execution_count": 112
        }
      ]
    },
    {
      "cell_type": "code",
      "metadata": {
        "colab": {
          "base_uri": "https://localhost:8080/",
          "height": 321
        },
        "id": "JNOSAXGI31nS",
        "outputId": "e263e266-c8a1-41aa-c721-e163675019d9"
      },
      "source": [
        "sns.set_theme(style=\"darkgrid\")\n",
        "plt.figure(figsize=(20, 6))\n",
        "ax = sns.countplot(x=\"jenis\", data=fixed_df, order = fixed_df['jenis'].value_counts().index)"
      ],
      "execution_count": null,
      "outputs": [
        {
          "output_type": "display_data",
          "data": {
            "image/png": "[encoded data removed]",
            "text/plain": [
              "<Figure size 1440x432 with 1 Axes>"
            ]
          },
          "metadata": {
            "tags": []
          }
        }
      ]
    },
    {
      "cell_type": "code",
      "metadata": {
        "colab": {
          "base_uri": "https://localhost:8080/",
          "height": 262
        },
        "id": "Z-Q6qAqS4X1a",
        "outputId": "291755a5-d4a5-4651-a644-fef25a45ab94"
      },
      "source": [
        "sns.set_theme(style=\"darkgrid\")\n",
        "plt.figure(figsize=(25, 6))\n",
        "ax = sns.countplot(x=\"district\", data=fixed_df, order = fixed_df['district'].value_counts().index)"
      ],
      "execution_count": null,
      "outputs": [
        {
          "output_type": "display_data",
          "data": {
            "image/png": "[encoded data removed]",
            "text/plain": [
              "<Figure size 1800x432 with 1 Axes>"
            ]
          },
          "metadata": {
            "tags": []
          }
        }
      ]
    },
    {
      "cell_type": "code",
      "metadata": {
        "colab": {
          "base_uri": "https://localhost:8080/",
          "height": 394
        },
        "id": "AcZNJKPf4tsJ",
        "outputId": "7ece3e49-0902-4fb5-8f59-454cd02adb62"
      },
      "source": [
        "sns.set_theme(style=\"darkgrid\")\n",
        "plt.figure(figsize=(10, 6))\n",
        "ax = sns.countplot(x=\"rujukan\", data=fixed_df, order = fixed_df['rujukan'].value_counts().index)"
      ],
      "execution_count": null,
      "outputs": [
        {
          "output_type": "display_data",
          "data": {
            "image/png": "[encoded data removed]",
            "text/plain": [
              "<Figure size 720x432 with 1 Axes>"
            ]
          },
          "metadata": {
            "tags": []
          }
        }
      ]
    },
    {
      "cell_type": "code",
      "metadata": {
        "colab": {
          "base_uri": "https://localhost:8080/",
          "height": 394
        },
        "id": "cBJI-n7O5SWI",
        "outputId": "1b6776f5-676a-4423-d7c8-821f6ad9481f"
      },
      "source": [
        "sns.set_theme(style=\"darkgrid\")\n",
        "plt.figure(figsize=(15, 6))\n",
        "ax = sns.countplot(x=\"kelas\", data=fixed_df, order = fixed_df['kelas'].value_counts().index)"
      ],
      "execution_count": null,
      "outputs": [
        {
          "output_type": "display_data",
          "data": {
            "image/png": "[encoded data removed]",
            "text/plain": [
              "<Figure size 1080x432 with 1 Axes>"
            ]
          },
          "metadata": {
            "tags": []
          }
        }
      ]
    },
    {
      "cell_type": "code",
      "metadata": {
        "colab": {
          "base_uri": "https://localhost:8080/"
        },
        "id": "S7XBKDDk5aqJ",
        "outputId": "e94b2b85-2d29-4343-c71c-83f767576475"
      },
      "source": [
        "fixed_df['district'].value_counts(dropna=False)"
      ],
      "execution_count": null,
      "outputs": [
        {
          "output_type": "execute_result",
          "data": {
            "text/plain": [
              "Jakarta Selatan         28\n",
              "Jakarta Timur           23\n",
              "Jakarta Pusat           18\n",
              "Jakarta Utara           14\n",
              "Jakarta Barat           12\n",
              "Kota Jakarta Selatan     6\n",
              "Kota Jakarta Utara       5\n",
              "Kota Jakarta Timur       3\n",
              "Kota Jakarta Pusat       2\n",
              "PemPro DKI Jakarta       2\n",
              "Jakarta                  2\n",
              "JAKARTA UTARA            2\n",
              "Kota Jakarta Barat       1\n",
              "Name: district, dtype: int64"
            ]
          },
          "metadata": {
            "tags": []
          },
          "execution_count": 130
        }
      ]
    },
    {
      "cell_type": "code",
      "metadata": {
        "id": "RDZrboV95hSI"
      },
      "source": [
        "fixed_df.drop(['rujukan'], axis=1, inplace=True)"
      ],
      "execution_count": null,
      "outputs": []
    },
    {
      "cell_type": "code",
      "metadata": {
        "id": "j4OMTzBI518R"
      },
      "source": [
        "fixed_df['district'].replace('Kota Jakarta Selatan', 'Jakarta Selatan', inplace=True)\n",
        "fixed_df['district'].replace('Kota Jakarta Utara', 'Jakarta Utara', inplace=True)\n",
        "fixed_df['district'].replace('Kota Jakarta Timur', 'Jakarta Timur', inplace=True)\n",
        "fixed_df['district'].replace('Kota Jakarta Barat', 'Jakarta Barat', inplace=True)\n",
        "fixed_df['district'].replace('Jakarta', 'Jakarta Pusat', inplace=True)\n",
        "fixed_df['district'].replace('JAKARTA UTARA', 'Jakarta Utara', inplace=True)\n",
        "fixed_df['district'].replace('Kota Jakarta Pusat', 'Jakarta Pusat', inplace=True)\n",
        "fixed_df['district'].replace('PemPro DKI Jakarta', 'Jakarta Pusat', inplace=True)"
      ],
      "execution_count": null,
      "outputs": []
    },
    {
      "cell_type": "code",
      "metadata": {
        "colab": {
          "base_uri": "https://localhost:8080/"
        },
        "id": "ZJHSP1ZB6A2P",
        "outputId": "5c05bc86-8b8c-43f8-a955-f8cf4efe373d"
      },
      "source": [
        "fixed_df['district'].value_counts(dropna=False)"
      ],
      "execution_count": null,
      "outputs": [
        {
          "output_type": "execute_result",
          "data": {
            "text/plain": [
              "Jakarta Selatan    34\n",
              "Jakarta Timur      26\n",
              "Jakarta Pusat      24\n",
              "Jakarta Utara      21\n",
              "Jakarta Barat      13\n",
              "Name: district, dtype: int64"
            ]
          },
          "metadata": {
            "tags": []
          },
          "execution_count": 137
        }
      ]
    },
    {
      "cell_type": "code",
      "metadata": {
        "colab": {
          "base_uri": "https://localhost:8080/",
          "height": 394
        },
        "id": "fofTnUz76FVh",
        "outputId": "c178f5f2-cb4f-4b76-de7e-315b2049ad3b"
      },
      "source": [
        "sns.set_theme(style=\"darkgrid\")\n",
        "plt.figure(figsize=(10, 6))\n",
        "ax = sns.countplot(x=\"district\", data=fixed_df, order = fixed_df['district'].value_counts().index)"
      ],
      "execution_count": null,
      "outputs": [
        {
          "output_type": "display_data",
          "data": {
            "image/png": "[encoded data removed]",
            "text/plain": [
              "<Figure size 720x432 with 1 Axes>"
            ]
          },
          "metadata": {
            "tags": []
          }
        }
      ]
    },
    {
      "cell_type": "code",
      "metadata": {
        "colab": {
          "base_uri": "https://localhost:8080/",
          "height": 360
        },
        "id": "Lol1QvBJ6ncF",
        "outputId": "e7249152-4f6a-4fa5-be98-dbd438311338"
      },
      "source": [
        "fixed_df.tail()"
      ],
      "execution_count": null,
      "outputs": [
        {
          "output_type": "execute_result",
          "data": {
            "text/html": [
              "<div>\n",
              "<style scoped>\n",
              "    .dataframe tbody tr th:only-of-type {\n",
              "        vertical-align: middle;\n",
              "    }\n",
              "\n",
              "    .dataframe tbody tr th {\n",
              "        vertical-align: top;\n",
              "    }\n",
              "\n",
              "    .dataframe thead th {\n",
              "        text-align: right;\n",
              "    }\n",
              "</style>\n",
              "<table border=\"1\" class=\"dataframe\">\n",
              "  <thead>\n",
              "    <tr style=\"text-align: right;\">\n",
              "      <th></th>\n",
              "      <th>kode_rs</th>\n",
              "      <th>akreditasi</th>\n",
              "      <th>nama_rs</th>\n",
              "      <th>provinsi</th>\n",
              "      <th>jenis</th>\n",
              "      <th>kelas</th>\n",
              "      <th>pemilik</th>\n",
              "      <th>total_tempat_tidur</th>\n",
              "      <th>alamat</th>\n",
              "      <th>district</th>\n",
              "      <th>lat</th>\n",
              "      <th>long</th>\n",
              "    </tr>\n",
              "  </thead>\n",
              "  <tbody>\n",
              "    <tr>\n",
              "      <th>113</th>\n",
              "      <td>3173612</td>\n",
              "      <td>NaN</td>\n",
              "      <td>RS Khusus THT Prof Nizar</td>\n",
              "      <td>DKI JAKARTA</td>\n",
              "      <td>THT-KL</td>\n",
              "      <td>B</td>\n",
              "      <td>SWASTA/ LAINNYA</td>\n",
              "      <td>9</td>\n",
              "      <td>Jl. Kesehatan No. 9 Jakpus</td>\n",
              "      <td>Jakarta Pusat</td>\n",
              "      <td>-6.171808</td>\n",
              "      <td>106.814911</td>\n",
              "    </tr>\n",
              "    <tr>\n",
              "      <th>114</th>\n",
              "      <td>3173532</td>\n",
              "      <td>NaN</td>\n",
              "      <td>RS Khusus THT Bedah KL Proklamasi</td>\n",
              "      <td>DKI JAKARTA</td>\n",
              "      <td>THT-KL</td>\n",
              "      <td>B</td>\n",
              "      <td>SWASTA/ LAINNYA</td>\n",
              "      <td>26</td>\n",
              "      <td>Jl. Proklamasi 43 Jakarta Pusat</td>\n",
              "      <td>Jakarta Pusat</td>\n",
              "      <td>-6.201897</td>\n",
              "      <td>106.848233</td>\n",
              "    </tr>\n",
              "    <tr>\n",
              "      <th>115</th>\n",
              "      <td>3173671</td>\n",
              "      <td>NaN</td>\n",
              "      <td>RS Gigi dan Mulut FKG Univ.Indonesia</td>\n",
              "      <td>DKI JAKARTA</td>\n",
              "      <td>GM</td>\n",
              "      <td>A</td>\n",
              "      <td>Kementerian Lain</td>\n",
              "      <td>0</td>\n",
              "      <td>Jl. Salemba Raya No. 4 Jakpus</td>\n",
              "      <td>Jakarta Pusat</td>\n",
              "      <td>-6.193161</td>\n",
              "      <td>106.852625</td>\n",
              "    </tr>\n",
              "    <tr>\n",
              "      <th>116</th>\n",
              "      <td>3173014</td>\n",
              "      <td>NaN</td>\n",
              "      <td>RSUPN Dr. Cipto Mangunkusumo</td>\n",
              "      <td>DKI JAKARTA</td>\n",
              "      <td>RSU</td>\n",
              "      <td>A</td>\n",
              "      <td>Kemkes</td>\n",
              "      <td>747</td>\n",
              "      <td>Jl. Diponegoro 71 Jakarta Pusat</td>\n",
              "      <td>Jakarta Pusat</td>\n",
              "      <td>-6.196661</td>\n",
              "      <td>106.845153</td>\n",
              "    </tr>\n",
              "    <tr>\n",
              "      <th>117</th>\n",
              "      <td>3171012</td>\n",
              "      <td>NaN</td>\n",
              "      <td>RSUP Fatmawati</td>\n",
              "      <td>DKI JAKARTA</td>\n",
              "      <td>RSU</td>\n",
              "      <td>A</td>\n",
              "      <td>Kemkes</td>\n",
              "      <td>223</td>\n",
              "      <td>Jl. Fatmawati Cilandak,Jaksel</td>\n",
              "      <td>Jakarta Selatan</td>\n",
              "      <td>-6.294844</td>\n",
              "      <td>106.795564</td>\n",
              "    </tr>\n",
              "  </tbody>\n",
              "</table>\n",
              "</div>"
            ],
            "text/plain": [
              "     kode_rs akreditasi  ...       lat        long\n",
              "113  3173612        NaN  ... -6.171808  106.814911\n",
              "114  3173532        NaN  ... -6.201897  106.848233\n",
              "115  3173671        NaN  ... -6.193161  106.852625\n",
              "116  3173014        NaN  ... -6.196661  106.845153\n",
              "117  3171012        NaN  ... -6.294844  106.795564\n",
              "\n",
              "[5 rows x 12 columns]"
            ]
          },
          "metadata": {
            "tags": []
          },
          "execution_count": 139
        }
      ]
    },
    {
      "cell_type": "code",
      "metadata": {
        "id": "nAj_3C1D6qUs"
      },
      "source": [
        "fixed_df['akreditasi'].fillna('Belum Ditentukan', inplace=True)"
      ],
      "execution_count": null,
      "outputs": []
    },
    {
      "cell_type": "code",
      "metadata": {
        "colab": {
          "base_uri": "https://localhost:8080/",
          "height": 360
        },
        "id": "hLthPZ9k62I2",
        "outputId": "e4d43675-1c97-4d22-8b25-530a79b2c811"
      },
      "source": [
        "fixed_df.tail()"
      ],
      "execution_count": null,
      "outputs": [
        {
          "output_type": "execute_result",
          "data": {
            "text/html": [
              "<div>\n",
              "<style scoped>\n",
              "    .dataframe tbody tr th:only-of-type {\n",
              "        vertical-align: middle;\n",
              "    }\n",
              "\n",
              "    .dataframe tbody tr th {\n",
              "        vertical-align: top;\n",
              "    }\n",
              "\n",
              "    .dataframe thead th {\n",
              "        text-align: right;\n",
              "    }\n",
              "</style>\n",
              "<table border=\"1\" class=\"dataframe\">\n",
              "  <thead>\n",
              "    <tr style=\"text-align: right;\">\n",
              "      <th></th>\n",
              "      <th>kode_rs</th>\n",
              "      <th>akreditasi</th>\n",
              "      <th>nama_rs</th>\n",
              "      <th>provinsi</th>\n",
              "      <th>jenis</th>\n",
              "      <th>kelas</th>\n",
              "      <th>pemilik</th>\n",
              "      <th>total_tempat_tidur</th>\n",
              "      <th>alamat</th>\n",
              "      <th>district</th>\n",
              "      <th>lat</th>\n",
              "      <th>long</th>\n",
              "    </tr>\n",
              "  </thead>\n",
              "  <tbody>\n",
              "    <tr>\n",
              "      <th>113</th>\n",
              "      <td>3173612</td>\n",
              "      <td>Belum Ditentukan</td>\n",
              "      <td>RS Khusus THT Prof Nizar</td>\n",
              "      <td>DKI JAKARTA</td>\n",
              "      <td>THT-KL</td>\n",
              "      <td>B</td>\n",
              "      <td>SWASTA/ LAINNYA</td>\n",
              "      <td>9</td>\n",
              "      <td>Jl. Kesehatan No. 9 Jakpus</td>\n",
              "      <td>Jakarta Pusat</td>\n",
              "      <td>-6.171808</td>\n",
              "      <td>106.814911</td>\n",
              "    </tr>\n",
              "    <tr>\n",
              "      <th>114</th>\n",
              "      <td>3173532</td>\n",
              "      <td>Belum Ditentukan</td>\n",
              "      <td>RS Khusus THT Bedah KL Proklamasi</td>\n",
              "      <td>DKI JAKARTA</td>\n",
              "      <td>THT-KL</td>\n",
              "      <td>B</td>\n",
              "      <td>SWASTA/ LAINNYA</td>\n",
              "      <td>26</td>\n",
              "      <td>Jl. Proklamasi 43 Jakarta Pusat</td>\n",
              "      <td>Jakarta Pusat</td>\n",
              "      <td>-6.201897</td>\n",
              "      <td>106.848233</td>\n",
              "    </tr>\n",
              "    <tr>\n",
              "      <th>115</th>\n",
              "      <td>3173671</td>\n",
              "      <td>Belum Ditentukan</td>\n",
              "      <td>RS Gigi dan Mulut FKG Univ.Indonesia</td>\n",
              "      <td>DKI JAKARTA</td>\n",
              "      <td>GM</td>\n",
              "      <td>A</td>\n",
              "      <td>Kementerian Lain</td>\n",
              "      <td>0</td>\n",
              "      <td>Jl. Salemba Raya No. 4 Jakpus</td>\n",
              "      <td>Jakarta Pusat</td>\n",
              "      <td>-6.193161</td>\n",
              "      <td>106.852625</td>\n",
              "    </tr>\n",
              "    <tr>\n",
              "      <th>116</th>\n",
              "      <td>3173014</td>\n",
              "      <td>Belum Ditentukan</td>\n",
              "      <td>RSUPN Dr. Cipto Mangunkusumo</td>\n",
              "      <td>DKI JAKARTA</td>\n",
              "      <td>RSU</td>\n",
              "      <td>A</td>\n",
              "      <td>Kemkes</td>\n",
              "      <td>747</td>\n",
              "      <td>Jl. Diponegoro 71 Jakarta Pusat</td>\n",
              "      <td>Jakarta Pusat</td>\n",
              "      <td>-6.196661</td>\n",
              "      <td>106.845153</td>\n",
              "    </tr>\n",
              "    <tr>\n",
              "      <th>117</th>\n",
              "      <td>3171012</td>\n",
              "      <td>Belum Ditentukan</td>\n",
              "      <td>RSUP Fatmawati</td>\n",
              "      <td>DKI JAKARTA</td>\n",
              "      <td>RSU</td>\n",
              "      <td>A</td>\n",
              "      <td>Kemkes</td>\n",
              "      <td>223</td>\n",
              "      <td>Jl. Fatmawati Cilandak,Jaksel</td>\n",
              "      <td>Jakarta Selatan</td>\n",
              "      <td>-6.294844</td>\n",
              "      <td>106.795564</td>\n",
              "    </tr>\n",
              "  </tbody>\n",
              "</table>\n",
              "</div>"
            ],
            "text/plain": [
              "     kode_rs        akreditasi  ...       lat        long\n",
              "113  3173612  Belum Ditentukan  ... -6.171808  106.814911\n",
              "114  3173532  Belum Ditentukan  ... -6.201897  106.848233\n",
              "115  3173671  Belum Ditentukan  ... -6.193161  106.852625\n",
              "116  3173014  Belum Ditentukan  ... -6.196661  106.845153\n",
              "117  3171012  Belum Ditentukan  ... -6.294844  106.795564\n",
              "\n",
              "[5 rows x 12 columns]"
            ]
          },
          "metadata": {
            "tags": []
          },
          "execution_count": 143
        }
      ]
    },
    {
      "cell_type": "code",
      "metadata": {
        "id": "0nbpCQB_64gA"
      },
      "source": [
        "fixed_df.to_csv('final.csv')\n",
        "fixed_df.to_json('final.json', orient='index')"
      ],
      "execution_count": null,
      "outputs": []
    },
    {
      "cell_type": "code",
      "metadata": {
        "id": "e2wrJuiD7IRN"
      },
      "source": [
        ""
      ],
      "execution_count": null,
      "outputs": []
    }
  ]
}